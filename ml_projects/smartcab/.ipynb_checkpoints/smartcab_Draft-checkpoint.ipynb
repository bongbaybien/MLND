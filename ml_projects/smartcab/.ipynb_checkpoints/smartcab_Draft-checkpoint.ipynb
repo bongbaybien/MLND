{
 "cells": [
  {
   "cell_type": "code",
   "execution_count": 1,
   "metadata": {
    "collapsed": false,
    "deletable": true,
    "editable": true
   },
   "outputs": [],
   "source": [
    "import matplotlib.pyplot as plt\n",
    "import numpy as np\n",
    "import pandas as pd\n",
    "import os\n",
    "import ast"
   ]
  },
  {
   "cell_type": "code",
   "execution_count": 7,
   "metadata": {
    "collapsed": false,
    "deletable": true,
    "editable": true
   },
   "outputs": [],
   "source": [
    "data = pd.read_csv(os.path.join(\"logs\", 'sim_no-learning.csv'))"
   ]
  },
  {
   "cell_type": "code",
   "execution_count": 9,
   "metadata": {
    "collapsed": false,
    "deletable": true,
    "editable": true,
    "scrolled": true
   },
   "outputs": [
    {
     "data": {
      "text/html": [
       "<div>\n",
       "<table border=\"1\" class=\"dataframe\">\n",
       "  <thead>\n",
       "    <tr style=\"text-align: right;\">\n",
       "      <th></th>\n",
       "      <th>trial</th>\n",
       "      <th>testing</th>\n",
       "      <th>parameters</th>\n",
       "      <th>initial_deadline</th>\n",
       "      <th>final_deadline</th>\n",
       "      <th>net_reward</th>\n",
       "      <th>actions</th>\n",
       "      <th>success</th>\n",
       "    </tr>\n",
       "  </thead>\n",
       "  <tbody>\n",
       "    <tr>\n",
       "      <th>0</th>\n",
       "      <td>1</td>\n",
       "      <td>False</td>\n",
       "      <td>{'a': 0.5, 'e': 1.0}</td>\n",
       "      <td>20</td>\n",
       "      <td>0</td>\n",
       "      <td>-75.978151</td>\n",
       "      <td>{0: 10, 1: 3, 2: 7, 3: 0, 4: 0}</td>\n",
       "      <td>0</td>\n",
       "    </tr>\n",
       "    <tr>\n",
       "      <th>1</th>\n",
       "      <td>2</td>\n",
       "      <td>False</td>\n",
       "      <td>{'a': 0.5, 'e': 1.0}</td>\n",
       "      <td>35</td>\n",
       "      <td>0</td>\n",
       "      <td>-215.926645</td>\n",
       "      <td>{0: 17, 1: 4, 2: 9, 3: 4, 4: 1}</td>\n",
       "      <td>0</td>\n",
       "    </tr>\n",
       "    <tr>\n",
       "      <th>2</th>\n",
       "      <td>3</td>\n",
       "      <td>False</td>\n",
       "      <td>{'a': 0.5, 'e': 1.0}</td>\n",
       "      <td>30</td>\n",
       "      <td>0</td>\n",
       "      <td>-152.186024</td>\n",
       "      <td>{0: 15, 1: 3, 2: 10, 3: 1, 4: 1}</td>\n",
       "      <td>0</td>\n",
       "    </tr>\n",
       "    <tr>\n",
       "      <th>3</th>\n",
       "      <td>4</td>\n",
       "      <td>False</td>\n",
       "      <td>{'a': 0.5, 'e': 1.0}</td>\n",
       "      <td>20</td>\n",
       "      <td>0</td>\n",
       "      <td>-92.390863</td>\n",
       "      <td>{0: 13, 1: 1, 2: 4, 3: 1, 4: 1}</td>\n",
       "      <td>0</td>\n",
       "    </tr>\n",
       "    <tr>\n",
       "      <th>4</th>\n",
       "      <td>5</td>\n",
       "      <td>False</td>\n",
       "      <td>{'a': 0.5, 'e': 1.0}</td>\n",
       "      <td>25</td>\n",
       "      <td>0</td>\n",
       "      <td>-151.936605</td>\n",
       "      <td>{0: 12, 1: 7, 2: 3, 3: 1, 4: 2}</td>\n",
       "      <td>0</td>\n",
       "    </tr>\n",
       "  </tbody>\n",
       "</table>\n",
       "</div>"
      ],
      "text/plain": [
       "   trial testing            parameters  initial_deadline  final_deadline  \\\n",
       "0      1   False  {'a': 0.5, 'e': 1.0}                20               0   \n",
       "1      2   False  {'a': 0.5, 'e': 1.0}                35               0   \n",
       "2      3   False  {'a': 0.5, 'e': 1.0}                30               0   \n",
       "3      4   False  {'a': 0.5, 'e': 1.0}                20               0   \n",
       "4      5   False  {'a': 0.5, 'e': 1.0}                25               0   \n",
       "\n",
       "   net_reward                           actions  success  \n",
       "0  -75.978151   {0: 10, 1: 3, 2: 7, 3: 0, 4: 0}        0  \n",
       "1 -215.926645   {0: 17, 1: 4, 2: 9, 3: 4, 4: 1}        0  \n",
       "2 -152.186024  {0: 15, 1: 3, 2: 10, 3: 1, 4: 1}        0  \n",
       "3  -92.390863   {0: 13, 1: 1, 2: 4, 3: 1, 4: 1}        0  \n",
       "4 -151.936605   {0: 12, 1: 7, 2: 3, 3: 1, 4: 2}        0  "
      ]
     },
     "execution_count": 9,
     "metadata": {},
     "output_type": "execute_result"
    }
   ],
   "source": [
    "data.head()"
   ]
  },
  {
   "cell_type": "code",
   "execution_count": 10,
   "metadata": {
    "collapsed": false,
    "deletable": true,
    "editable": true
   },
   "outputs": [
    {
     "data": {
      "text/html": [
       "<div>\n",
       "<table border=\"1\" class=\"dataframe\">\n",
       "  <thead>\n",
       "    <tr style=\"text-align: right;\">\n",
       "      <th></th>\n",
       "      <th>trial</th>\n",
       "      <th>testing</th>\n",
       "      <th>parameters</th>\n",
       "      <th>initial_deadline</th>\n",
       "      <th>final_deadline</th>\n",
       "      <th>net_reward</th>\n",
       "      <th>actions</th>\n",
       "      <th>success</th>\n",
       "      <th>good_actions</th>\n",
       "    </tr>\n",
       "  </thead>\n",
       "  <tbody>\n",
       "    <tr>\n",
       "      <th>0</th>\n",
       "      <td>1</td>\n",
       "      <td>False</td>\n",
       "      <td>{'a': 0.5, 'e': 1.0}</td>\n",
       "      <td>20</td>\n",
       "      <td>0</td>\n",
       "      <td>-75.978151</td>\n",
       "      <td>{0: 10, 1: 3, 2: 7, 3: 0, 4: 0}</td>\n",
       "      <td>0</td>\n",
       "      <td>10</td>\n",
       "    </tr>\n",
       "    <tr>\n",
       "      <th>1</th>\n",
       "      <td>2</td>\n",
       "      <td>False</td>\n",
       "      <td>{'a': 0.5, 'e': 1.0}</td>\n",
       "      <td>35</td>\n",
       "      <td>0</td>\n",
       "      <td>-215.926645</td>\n",
       "      <td>{0: 17, 1: 4, 2: 9, 3: 4, 4: 1}</td>\n",
       "      <td>0</td>\n",
       "      <td>17</td>\n",
       "    </tr>\n",
       "    <tr>\n",
       "      <th>2</th>\n",
       "      <td>3</td>\n",
       "      <td>False</td>\n",
       "      <td>{'a': 0.5, 'e': 1.0}</td>\n",
       "      <td>30</td>\n",
       "      <td>0</td>\n",
       "      <td>-152.186024</td>\n",
       "      <td>{0: 15, 1: 3, 2: 10, 3: 1, 4: 1}</td>\n",
       "      <td>0</td>\n",
       "      <td>15</td>\n",
       "    </tr>\n",
       "    <tr>\n",
       "      <th>3</th>\n",
       "      <td>4</td>\n",
       "      <td>False</td>\n",
       "      <td>{'a': 0.5, 'e': 1.0}</td>\n",
       "      <td>20</td>\n",
       "      <td>0</td>\n",
       "      <td>-92.390863</td>\n",
       "      <td>{0: 13, 1: 1, 2: 4, 3: 1, 4: 1}</td>\n",
       "      <td>0</td>\n",
       "      <td>13</td>\n",
       "    </tr>\n",
       "    <tr>\n",
       "      <th>4</th>\n",
       "      <td>5</td>\n",
       "      <td>False</td>\n",
       "      <td>{'a': 0.5, 'e': 1.0}</td>\n",
       "      <td>25</td>\n",
       "      <td>0</td>\n",
       "      <td>-151.936605</td>\n",
       "      <td>{0: 12, 1: 7, 2: 3, 3: 1, 4: 2}</td>\n",
       "      <td>0</td>\n",
       "      <td>12</td>\n",
       "    </tr>\n",
       "  </tbody>\n",
       "</table>\n",
       "</div>"
      ],
      "text/plain": [
       "   trial testing            parameters  initial_deadline  final_deadline  \\\n",
       "0      1   False  {'a': 0.5, 'e': 1.0}                20               0   \n",
       "1      2   False  {'a': 0.5, 'e': 1.0}                35               0   \n",
       "2      3   False  {'a': 0.5, 'e': 1.0}                30               0   \n",
       "3      4   False  {'a': 0.5, 'e': 1.0}                20               0   \n",
       "4      5   False  {'a': 0.5, 'e': 1.0}                25               0   \n",
       "\n",
       "   net_reward                           actions  success  good_actions  \n",
       "0  -75.978151   {0: 10, 1: 3, 2: 7, 3: 0, 4: 0}        0            10  \n",
       "1 -215.926645   {0: 17, 1: 4, 2: 9, 3: 4, 4: 1}        0            17  \n",
       "2 -152.186024  {0: 15, 1: 3, 2: 10, 3: 1, 4: 1}        0            15  \n",
       "3  -92.390863   {0: 13, 1: 1, 2: 4, 3: 1, 4: 1}        0            13  \n",
       "4 -151.936605   {0: 12, 1: 7, 2: 3, 3: 1, 4: 2}        0            12  "
      ]
     },
     "execution_count": 10,
     "metadata": {},
     "output_type": "execute_result"
    }
   ],
   "source": [
    "data['good_actions'] = data['actions'].apply(lambda x: ast.literal_eval(x)[0])\n",
    "data.head()"
   ]
  },
  {
   "cell_type": "code",
   "execution_count": 1,
   "metadata": {
    "collapsed": false,
    "deletable": true,
    "editable": true
   },
   "outputs": [
    {
     "data": {
      "text/plain": [
       "('c', 1, 'd')"
      ]
     },
     "execution_count": 1,
     "metadata": {},
     "output_type": "execute_result"
    }
   ],
   "source": [
    "dict={'a':1,'b':2}\n",
    "('c', dict['a'], 'd')"
   ]
  },
  {
   "cell_type": "code",
   "execution_count": 11,
   "metadata": {
    "collapsed": false,
    "deletable": true,
    "editable": true
   },
   "outputs": [
    {
     "data": {
      "text/plain": [
       "'b'"
      ]
     },
     "execution_count": 11,
     "metadata": {},
     "output_type": "execute_result"
    }
   ],
   "source": [
    "max(dict, key=dict.get)"
   ]
  },
  {
   "cell_type": "code",
   "execution_count": 12,
   "metadata": {
    "collapsed": false,
    "deletable": true,
    "editable": true
   },
   "outputs": [
    {
     "data": {
      "text/plain": [
       "'b'"
      ]
     },
     "execution_count": 12,
     "metadata": {},
     "output_type": "execute_result"
    }
   ],
   "source": [
    "max(dict)"
   ]
  },
  {
   "cell_type": "code",
   "execution_count": 10,
   "metadata": {
    "collapsed": false,
    "deletable": true,
    "editable": true
   },
   "outputs": [
    {
     "data": {
      "text/plain": [
       "2"
      ]
     },
     "execution_count": 10,
     "metadata": {},
     "output_type": "execute_result"
    }
   ],
   "source": [
    "max(dict.values())"
   ]
  },
  {
   "cell_type": "code",
   "execution_count": 13,
   "metadata": {
    "collapsed": false,
    "deletable": true,
    "editable": true
   },
   "outputs": [
    {
     "data": {
      "text/plain": [
       "False"
      ]
     },
     "execution_count": 13,
     "metadata": {},
     "output_type": "execute_result"
    }
   ],
   "source": [
    "'a' not in dict"
   ]
  },
  {
   "cell_type": "code",
   "execution_count": 13,
   "metadata": {
    "collapsed": false,
    "deletable": true,
    "editable": true
   },
   "outputs": [
    {
     "data": {
      "text/plain": [
       "0.0"
      ]
     },
     "execution_count": 13,
     "metadata": {},
     "output_type": "execute_result"
    }
   ],
   "source": [
    "dict = {None:0.0, 'forward':0.0, 'left':0.0, 'right':0.0}\n",
    "dict[None]"
   ]
  },
  {
   "cell_type": "code",
   "execution_count": 4,
   "metadata": {
    "collapsed": false,
    "deletable": true,
    "editable": true
   },
   "outputs": [
    {
     "name": "stdout",
     "output_type": "stream",
     "text": [
      "a\n",
      "b\n",
      "('a', 1)\n",
      "('b', 2)\n"
     ]
    }
   ],
   "source": [
    "for k in dict.iterkeys():\n",
    "    print(k)\n",
    "    \n",
    "for item in dict.iteritems():\n",
    "    print item"
   ]
  },
  {
   "cell_type": "code",
   "execution_count": 5,
   "metadata": {
    "collapsed": false,
    "deletable": true,
    "editable": true
   },
   "outputs": [
    {
     "data": {
      "text/plain": [
       "8.0"
      ]
     },
     "execution_count": 5,
     "metadata": {},
     "output_type": "execute_result"
    }
   ],
   "source": [
    "import math\n",
    "math.pow(2,3)\n",
    "math.exp"
   ]
  },
  {
   "cell_type": "code",
   "execution_count": 14,
   "metadata": {
    "collapsed": false,
    "deletable": true,
    "editable": true
   },
   "outputs": [
    {
     "ename": "TypeError",
     "evalue": "choice() takes exactly 2 arguments (1 given)",
     "output_type": "error",
     "traceback": [
      "\u001b[1;31m---------------------------------------------------------------------------\u001b[0m",
      "\u001b[1;31mTypeError\u001b[0m                                 Traceback (most recent call last)",
      "\u001b[1;32m<ipython-input-14-b764e11d1ec9>\u001b[0m in \u001b[0;36m<module>\u001b[1;34m()\u001b[0m\n\u001b[0;32m      1\u001b[0m \u001b[1;32mimport\u001b[0m \u001b[0mrandom\u001b[0m\u001b[1;33m\u001b[0m\u001b[0m\n\u001b[1;32m----> 2\u001b[1;33m \u001b[0mrandom\u001b[0m\u001b[1;33m.\u001b[0m\u001b[0mchoice\u001b[0m\u001b[1;33m(\u001b[0m\u001b[1;33m)\u001b[0m\u001b[1;33m\u001b[0m\u001b[0m\n\u001b[0m",
      "\u001b[1;31mTypeError\u001b[0m: choice() takes exactly 2 arguments (1 given)"
     ]
    }
   ],
   "source": [
    "import random\n",
    "random.choice()"
   ]
  },
  {
   "cell_type": "code",
   "execution_count": 3,
   "metadata": {
    "collapsed": false,
    "deletable": true,
    "editable": true
   },
   "outputs": [
    {
     "data": {
      "text/plain": [
       "0.4"
      ]
     },
     "execution_count": 3,
     "metadata": {},
     "output_type": "execute_result"
    }
   ],
   "source": [
    "float(20)/float(50)"
   ]
  },
  {
   "cell_type": "code",
   "execution_count": 8,
   "metadata": {
    "collapsed": false,
    "deletable": true,
    "editable": true
   },
   "outputs": [
    {
     "name": "stdout",
     "output_type": "stream",
     "text": [
      "forward\n",
      "12.1443594882\n"
     ]
    }
   ],
   "source": [
    "dict = {'forward': 12.14435948823017, None: 6.101577709728374, 'right': 9.74065861581101, 'left': 9.846448806081266}\n",
    "print(max(dict, key=dict.get))\n",
    "print(max(dict.values()))"
   ]
  }
 ],
 "metadata": {
  "kernelspec": {
   "display_name": "Python 2",
   "language": "python",
   "name": "python2"
  },
  "language_info": {
   "codemirror_mode": {
    "name": "ipython",
    "version": 2
   },
   "file_extension": ".py",
   "mimetype": "text/x-python",
   "name": "python",
   "nbconvert_exporter": "python",
   "pygments_lexer": "ipython2",
   "version": "2.7.13"
  }
 },
 "nbformat": 4,
 "nbformat_minor": 1
}
