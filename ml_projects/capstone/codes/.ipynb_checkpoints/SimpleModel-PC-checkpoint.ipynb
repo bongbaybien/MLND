{
 "cells": [
  {
   "cell_type": "code",
   "execution_count": 1,
   "metadata": {},
   "outputs": [
    {
     "name": "stderr",
     "output_type": "stream",
     "text": [
      "Using TensorFlow backend.\n"
     ]
    }
   ],
   "source": [
    "%load_ext autoreload\n",
    "%autoreload 2\n",
    "\n",
    "import helper\n",
    "from PIL import Image\n",
    "import numpy as np\n",
    "import matplotlib.pyplot as plt\n",
    "import keras\n",
    "from keras.preprocessing.image import ImageDataGenerator\n",
    "from keras.models import Sequential\n",
    "from keras.layers.convolutional import Conv2D\n",
    "from keras.layers.pooling import MaxPooling2D\n",
    "from keras.layers.core import Flatten, Dropout, Dense\n",
    "from keras import optimizers\n",
    "%matplotlib inline\n"
   ]
  },
  {
   "cell_type": "markdown",
   "metadata": {},
   "source": [
    "# Read in data, format, & preprocess"
   ]
  },
  {
   "cell_type": "code",
   "execution_count": 2,
   "metadata": {
    "collapsed": true
   },
   "outputs": [],
   "source": [
    "emotion_dict = {0:'angry', 1:'disgust', 2:'fear', 3:'happy', 4:'sad', 5:'surprise', 6:'neutral'}\n",
    "image_shape = (48,48,1)\n",
    "n_classes = len(emotion_dict)\n",
    "n_features = np.product(image_shape)"
   ]
  },
  {
   "cell_type": "code",
   "execution_count": 3,
   "metadata": {
    "collapsed": true
   },
   "outputs": [],
   "source": [
    "# read in data\n",
    "file_path = './Data/Kaggle-FER/fer2013.csv'\n",
    "data_raw = helper.read_in_data(file_path) # data is a tuple of (x_list, y_list, usage_list)"
   ]
  },
  {
   "cell_type": "code",
   "execution_count": 4,
   "metadata": {
    "collapsed": true
   },
   "outputs": [],
   "source": [
    "# convert data to numpy array\n",
    "data_formatted = helper.format(data_raw, image_shape, n_classes) # return tuple of (x_array, y_array, usage_list)"
   ]
  },
  {
   "cell_type": "code",
   "execution_count": 5,
   "metadata": {},
   "outputs": [
    {
     "data": {
      "text/plain": [
       "{0: 4945, 1: 547, 2: 5121, 3: 8988, 4: 6076, 5: 4001, 6: 6197}"
      ]
     },
     "execution_count": 5,
     "metadata": {},
     "output_type": "execute_result"
    }
   ],
   "source": [
    "# number of example for each class\n",
    "label, count = np.unique(data_formatted[1], return_counts=True)\n",
    "dict(zip(label, count))"
   ]
  },
  {
   "cell_type": "code",
   "execution_count": 6,
   "metadata": {
    "collapsed": true
   },
   "outputs": [],
   "source": [
    "# split into train & test sets. Test set = public, private set is used for final testing, to be consistent with the competition\n",
    "(x_train, y_train), (x_test, y_test), (x_private, y_private) = helper.create_train_test(data_formatted, n_classes)"
   ]
  },
  {
   "cell_type": "code",
   "execution_count": 7,
   "metadata": {
    "collapsed": true
   },
   "outputs": [],
   "source": [
    "# one-hot encode\n",
    "y_train_onehot = keras.utils.to_categorical(y_train, n_classes)\n",
    "y_test_onehot = keras.utils.to_categorical(y_test, n_classes)\n",
    "y_private_onehot = keras.utils.to_categorical(y_private, n_classes)"
   ]
  },
  {
   "cell_type": "code",
   "execution_count": 8,
   "metadata": {},
   "outputs": [
    {
     "name": "stdout",
     "output_type": "stream",
     "text": [
      "(28698, 48, 48, 1)\n",
      "(28698, 1)\n",
      "(28698, 7)\n",
      "(3588, 48, 48, 1)\n",
      "(3588, 1)\n",
      "(3588, 7)\n",
      "(3589, 48, 48, 1)\n",
      "(3589, 1)\n",
      "(3589, 7)\n"
     ]
    }
   ],
   "source": [
    "print(x_train.shape)\n",
    "print(y_train.shape)\n",
    "print(y_train_onehot.shape)\n",
    "print(x_test.shape)\n",
    "print(y_test.shape)\n",
    "print(y_test_onehot.shape)\n",
    "print(x_private.shape)\n",
    "print(y_private.shape)\n",
    "print(y_private_onehot.shape)"
   ]
  },
  {
   "cell_type": "code",
   "execution_count": 9,
   "metadata": {},
   "outputs": [
    {
     "name": "stderr",
     "output_type": "stream",
     "text": [
      "C:\\Program Files (x86)\\Python35-64bit\\lib\\site-packages\\keras\\preprocessing\\image.py:648: UserWarning: Expected input to be images (as Numpy array) following the data format convention \"channels_last\" (channels on axis 3), i.e. expected either 1, 3 or 4 channels on axis 3. However, it was passed an array with shape (28698, 48, 48, 1) (1 channels).\n",
      "  ' (' + str(x.shape[self.channel_axis]) + ' channels).')\n",
      "C:\\Program Files (x86)\\Python35-64bit\\lib\\site-packages\\keras\\preprocessing\\image.py:648: UserWarning: Expected input to be images (as Numpy array) following the data format convention \"channels_last\" (channels on axis 3), i.e. expected either 1, 3 or 4 channels on axis 3. However, it was passed an array with shape (3588, 48, 48, 1) (1 channels).\n",
      "  ' (' + str(x.shape[self.channel_axis]) + ' channels).')\n"
     ]
    }
   ],
   "source": [
    "# preprocess: normalized\n",
    "train_datagen = ImageDataGenerator(featurewise_center=True, featurewise_std_normalization=True)\n",
    "train_datagen.fit(x_train)\n",
    "\n",
    "test_datagen = ImageDataGenerator(featurewise_center=True, featurewise_std_normalization=True)\n",
    "test_datagen.fit(x_test)\n"
   ]
  },
  {
   "cell_type": "code",
   "execution_count": 10,
   "metadata": {},
   "outputs": [
    {
     "name": "stdout",
     "output_type": "stream",
     "text": [
      "happy\n"
     ]
    },
    {
     "data": {
      "image/png": "[encoded data removed]",
      "text/plain": [
       "<matplotlib.figure.Figure at 0x1e0b47960b8>"
      ]
     },
     "metadata": {},
     "output_type": "display_data"
    }
   ],
   "source": [
    "# visual data\n",
    "index = 8\n",
    "\n",
    "img_array = np.reshape(x_train[index], (48,48))\n",
    "plt.imshow(img_array, cmap='gray')\n",
    "print(emotion_dict[y_train[index,0]])\n",
    "\n",
    "# after preprocess\n",
    "i = 0\n",
    "for batch in train_datagen.flow(np.reshape(x_train[index], (1,*image_shape))\n",
    "                                , batch_size=32, save_to_dir='preview', save_format='jpeg'):\n",
    "    i += 1\n",
    "    if i > 20:\n",
    "        break"
   ]
  },
  {
   "cell_type": "markdown",
   "metadata": {},
   "source": [
    "# Build model"
   ]
  },
  {
   "cell_type": "code",
   "execution_count": 11,
   "metadata": {},
   "outputs": [
    {
     "name": "stdout",
     "output_type": "stream",
     "text": [
      "_________________________________________________________________\n",
      "Layer (type)                 Output Shape              Param #   \n",
      "=================================================================\n",
      "conv2d_1 (Conv2D)            (None, 48, 48, 20)        340       \n",
      "_________________________________________________________________\n",
      "max_pooling2d_1 (MaxPooling2 (None, 24, 24, 20)        0         \n",
      "_________________________________________________________________\n",
      "flatten_1 (Flatten)          (None, 11520)             0         \n",
      "_________________________________________________________________\n",
      "dropout_1 (Dropout)          (None, 11520)             0         \n",
      "_________________________________________________________________\n",
      "dense_1 (Dense)              (None, 100)               1152100   \n",
      "_________________________________________________________________\n",
      "dense_2 (Dense)              (None, 7)                 707       \n",
      "=================================================================\n",
      "Total params: 1,153,147\n",
      "Trainable params: 1,153,147\n",
      "Non-trainable params: 0\n",
      "_________________________________________________________________\n"
     ]
    }
   ],
   "source": [
    "# simple model\n",
    "model = Sequential()\n",
    "model.add(Conv2D(20, (4,4), padding='same', activation='relu', input_shape=image_shape))\n",
    "model.add(MaxPooling2D((2,2), strides=(2,2), padding='valid'))\n",
    "model.add(Flatten())\n",
    "model.add(Dropout(0.3))\n",
    "model.add(Dense(100, activation='relu'))\n",
    "model.add(Dense(n_classes, activation='softmax'))\n",
    "\n",
    "model.summary()\n"
   ]
  },
  {
   "cell_type": "code",
   "execution_count": 12,
   "metadata": {
    "collapsed": true
   },
   "outputs": [],
   "source": [
    "adam = optimizers.Adam()\n",
    "model.compile(loss='categorical_crossentropy', optimizer=adam, metrics=['accuracy'])"
   ]
  },
  {
   "cell_type": "markdown",
   "metadata": {},
   "source": [
    "# train"
   ]
  },
  {
   "cell_type": "code",
   "execution_count": 13,
   "metadata": {
    "collapsed": true
   },
   "outputs": [],
   "source": [
    "epochs = 100\n",
    "batch_size = 256\n",
    "n_train = len(x_train)\n",
    "n_test = len(x_test)"
   ]
  },
  {
   "cell_type": "code",
   "execution_count": 14,
   "metadata": {},
   "outputs": [
    {
     "name": "stdout",
     "output_type": "stream",
     "text": [
      "Epoch 1/100\n",
      "112/112 [==============================] - 40s - loss: 1.7177 - acc: 0.3333 - val_loss: 1.5945 - val_acc: 0.3892\n",
      "Epoch 2/100\n",
      "112/112 [==============================] - 38s - loss: 1.5364 - acc: 0.4175 - val_loss: 1.5084 - val_acc: 0.4172\n",
      "Epoch 3/100\n",
      "112/112 [==============================] - 38s - loss: 1.4574 - acc: 0.4489 - val_loss: 1.4496 - val_acc: 0.4400\n",
      "Epoch 4/100\n",
      "112/112 [==============================] - 38s - loss: 1.4048 - acc: 0.4686 - val_loss: 1.4296 - val_acc: 0.4577\n",
      "Epoch 5/100\n",
      "112/112 [==============================] - 39s - loss: 1.3629 - acc: 0.4877 - val_loss: 1.3948 - val_acc: 0.4745\n",
      "Epoch 6/100\n",
      "112/112 [==============================] - 38s - loss: 1.3274 - acc: 0.5016 - val_loss: 1.3927 - val_acc: 0.4696\n",
      "Epoch 7/100\n",
      "112/112 [==============================] - 38s - loss: 1.2848 - acc: 0.5197 - val_loss: 1.3920 - val_acc: 0.4682\n",
      "Epoch 8/100\n",
      "112/112 [==============================] - 38s - loss: 1.2602 - acc: 0.5255 - val_loss: 1.3830 - val_acc: 0.4730\n",
      "Epoch 9/100\n",
      "112/112 [==============================] - 38s - loss: 1.2308 - acc: 0.5383 - val_loss: 1.3727 - val_acc: 0.4895\n",
      "Epoch 10/100\n",
      "112/112 [==============================] - 38s - loss: 1.2056 - acc: 0.5461 - val_loss: 1.4106 - val_acc: 0.4604\n",
      "Epoch 11/100\n",
      "112/112 [==============================] - 38s - loss: 1.1785 - acc: 0.5614 - val_loss: 1.3971 - val_acc: 0.4749\n",
      "Epoch 12/100\n",
      "112/112 [==============================] - 39s - loss: 1.1503 - acc: 0.5672 - val_loss: 1.3997 - val_acc: 0.4814\n",
      "Epoch 13/100\n",
      "112/112 [==============================] - 38s - loss: 1.1388 - acc: 0.5743 - val_loss: 1.4078 - val_acc: 0.4796\n",
      "Epoch 14/100\n",
      "112/112 [==============================] - 38s - loss: 1.1193 - acc: 0.5856 - val_loss: 1.4133 - val_acc: 0.4850\n",
      "Epoch 15/100\n",
      "112/112 [==============================] - 38s - loss: 1.0966 - acc: 0.5907 - val_loss: 1.3968 - val_acc: 0.4820\n",
      "Epoch 16/100\n",
      "112/112 [==============================] - 38s - loss: 1.0850 - acc: 0.5945 - val_loss: 1.4163 - val_acc: 0.4891\n",
      "Epoch 17/100\n",
      "112/112 [==============================] - 38s - loss: 1.0560 - acc: 0.6059 - val_loss: 1.4199 - val_acc: 0.4736\n",
      "Epoch 18/100\n",
      "112/112 [==============================] - 38s - loss: 1.0382 - acc: 0.6157 - val_loss: 1.4279 - val_acc: 0.4874\n",
      "Epoch 19/100\n",
      "112/112 [==============================] - 38s - loss: 1.0214 - acc: 0.6204 - val_loss: 1.4253 - val_acc: 0.4871\n",
      "Epoch 20/100\n",
      "112/112 [==============================] - 38s - loss: 1.0150 - acc: 0.6243 - val_loss: 1.4763 - val_acc: 0.4727\n",
      "Epoch 21/100\n",
      "112/112 [==============================] - 38s - loss: 0.9962 - acc: 0.6311 - val_loss: 1.4465 - val_acc: 0.4863\n",
      "Epoch 22/100\n",
      "112/112 [==============================] - 38s - loss: 0.9805 - acc: 0.6356 - val_loss: 1.4403 - val_acc: 0.4898\n",
      "Epoch 23/100\n",
      "112/112 [==============================] - 38s - loss: 0.9758 - acc: 0.6358 - val_loss: 1.4687 - val_acc: 0.4835\n",
      "Epoch 24/100\n",
      "112/112 [==============================] - 38s - loss: 0.9503 - acc: 0.6464 - val_loss: 1.4805 - val_acc: 0.4874\n",
      "Epoch 25/100\n",
      "112/112 [==============================] - 38s - loss: 0.9410 - acc: 0.6505 - val_loss: 1.4991 - val_acc: 0.4865\n",
      "Epoch 26/100\n",
      "112/112 [==============================] - 38s - loss: 0.9336 - acc: 0.6546 - val_loss: 1.4855 - val_acc: 0.4813\n",
      "Epoch 27/100\n",
      "112/112 [==============================] - 38s - loss: 0.9142 - acc: 0.6627 - val_loss: 1.4967 - val_acc: 0.4829\n",
      "Epoch 28/100\n",
      "112/112 [==============================] - 38s - loss: 0.9040 - acc: 0.6658 - val_loss: 1.5047 - val_acc: 0.4898\n",
      "Epoch 29/100\n",
      "112/112 [==============================] - 38s - loss: 0.8869 - acc: 0.6710 - val_loss: 1.4937 - val_acc: 0.4931\n",
      "Epoch 30/100\n",
      "112/112 [==============================] - 38s - loss: 0.8693 - acc: 0.6795 - val_loss: 1.5387 - val_acc: 0.4841\n",
      "Epoch 31/100\n",
      "112/112 [==============================] - 38s - loss: 0.8683 - acc: 0.6755 - val_loss: 1.5215 - val_acc: 0.4863\n",
      "Epoch 32/100\n",
      "112/112 [==============================] - 38s - loss: 0.8632 - acc: 0.6791 - val_loss: 1.5667 - val_acc: 0.4805\n",
      "Epoch 33/100\n",
      "112/112 [==============================] - 38s - loss: 0.8389 - acc: 0.6904 - val_loss: 1.5297 - val_acc: 0.4832\n",
      "Epoch 34/100\n",
      "112/112 [==============================] - 38s - loss: 0.8404 - acc: 0.6875 - val_loss: 1.5760 - val_acc: 0.4823\n",
      "Epoch 35/100\n",
      "112/112 [==============================] - 38s - loss: 0.8230 - acc: 0.6955 - val_loss: 1.5485 - val_acc: 0.4889\n",
      "Epoch 36/100\n",
      "112/112 [==============================] - 38s - loss: 0.8106 - acc: 0.6978 - val_loss: 1.6036 - val_acc: 0.4833\n",
      "Epoch 37/100\n",
      "112/112 [==============================] - 38s - loss: 0.8063 - acc: 0.6983 - val_loss: 1.6072 - val_acc: 0.4901\n",
      "Epoch 38/100\n",
      "112/112 [==============================] - 38s - loss: 0.8052 - acc: 0.7026 - val_loss: 1.6135 - val_acc: 0.4871\n",
      "Epoch 39/100\n",
      "112/112 [==============================] - 38s - loss: 0.7915 - acc: 0.7060 - val_loss: 1.6187 - val_acc: 0.4913\n",
      "Epoch 40/100\n",
      "112/112 [==============================] - 38s - loss: 0.7809 - acc: 0.7089 - val_loss: 1.6128 - val_acc: 0.4850\n",
      "Epoch 41/100\n",
      "112/112 [==============================] - 38s - loss: 0.7785 - acc: 0.7117 - val_loss: 1.6350 - val_acc: 0.4799\n",
      "Epoch 42/100\n",
      "112/112 [==============================] - 38s - loss: 0.7484 - acc: 0.7219 - val_loss: 1.7121 - val_acc: 0.4667\n",
      "Epoch 43/100\n",
      "112/112 [==============================] - 38s - loss: 0.7576 - acc: 0.7178 - val_loss: 1.6419 - val_acc: 0.4871\n",
      "Epoch 44/100\n",
      "112/112 [==============================] - 38s - loss: 0.7428 - acc: 0.7206 - val_loss: 1.6893 - val_acc: 0.4811\n",
      "Epoch 45/100\n",
      "112/112 [==============================] - 39s - loss: 0.7324 - acc: 0.7311 - val_loss: 1.7083 - val_acc: 0.4799\n",
      "Epoch 46/100\n",
      "112/112 [==============================] - 44s - loss: 0.7209 - acc: 0.7331 - val_loss: 1.6994 - val_acc: 0.4796\n",
      "Epoch 47/100\n",
      "112/112 [==============================] - 40s - loss: 0.7148 - acc: 0.7351 - val_loss: 1.7836 - val_acc: 0.4694\n",
      "Epoch 48/100\n",
      "112/112 [==============================] - 38s - loss: 0.7120 - acc: 0.7378 - val_loss: 1.7294 - val_acc: 0.4769\n",
      "Epoch 49/100\n",
      "112/112 [==============================] - 38s - loss: 0.7019 - acc: 0.7403 - val_loss: 1.7230 - val_acc: 0.4721\n",
      "Epoch 50/100\n",
      "112/112 [==============================] - 38s - loss: 0.7099 - acc: 0.7372 - val_loss: 1.7487 - val_acc: 0.4700\n",
      "Epoch 51/100\n",
      "112/112 [==============================] - 37s - loss: 0.6907 - acc: 0.7436 - val_loss: 1.7584 - val_acc: 0.4819\n",
      "Epoch 52/100\n",
      "112/112 [==============================] - 37s - loss: 0.6881 - acc: 0.7442 - val_loss: 1.8176 - val_acc: 0.4814\n",
      "Epoch 53/100\n",
      "112/112 [==============================] - 37s - loss: 0.6733 - acc: 0.7549 - val_loss: 1.7949 - val_acc: 0.4766\n",
      "Epoch 54/100\n",
      "112/112 [==============================] - 37s - loss: 0.6708 - acc: 0.7527 - val_loss: 1.8022 - val_acc: 0.4856\n",
      "Epoch 55/100\n",
      "112/112 [==============================] - 37s - loss: 0.6567 - acc: 0.7596 - val_loss: 1.7990 - val_acc: 0.4772\n",
      "Epoch 56/100\n",
      "112/112 [==============================] - 37s - loss: 0.6543 - acc: 0.7584 - val_loss: 1.8044 - val_acc: 0.4830\n",
      "Epoch 57/100\n",
      "112/112 [==============================] - 37s - loss: 0.6532 - acc: 0.7590 - val_loss: 1.8561 - val_acc: 0.4703\n",
      "Epoch 58/100\n",
      "112/112 [==============================] - 37s - loss: 0.6477 - acc: 0.7606 - val_loss: 1.8549 - val_acc: 0.4739\n",
      "Epoch 59/100\n",
      "112/112 [==============================] - 37s - loss: 0.6417 - acc: 0.7618 - val_loss: 1.8620 - val_acc: 0.4817\n",
      "Epoch 60/100\n",
      "112/112 [==============================] - 37s - loss: 0.6348 - acc: 0.7666 - val_loss: 1.9246 - val_acc: 0.4694\n",
      "Epoch 61/100\n",
      "112/112 [==============================] - 37s - loss: 0.6311 - acc: 0.7656 - val_loss: 1.8882 - val_acc: 0.4643\n",
      "Epoch 62/100\n",
      "112/112 [==============================] - 37s - loss: 0.6285 - acc: 0.7665 - val_loss: 1.9218 - val_acc: 0.4781\n",
      "Epoch 63/100\n",
      "112/112 [==============================] - 37s - loss: 0.6278 - acc: 0.7693 - val_loss: 1.9014 - val_acc: 0.4853\n",
      "Epoch 64/100\n",
      "112/112 [==============================] - 37s - loss: 0.6182 - acc: 0.7734 - val_loss: 1.9668 - val_acc: 0.4748\n",
      "Epoch 65/100\n",
      "112/112 [==============================] - 37s - loss: 0.6094 - acc: 0.7750 - val_loss: 1.9263 - val_acc: 0.4673\n",
      "Epoch 66/100\n"
     ]
    },
    {
     "name": "stdout",
     "output_type": "stream",
     "text": [
      "112/112 [==============================] - 36s - loss: 0.6032 - acc: 0.7764 - val_loss: 1.9102 - val_acc: 0.4849\n",
      "Epoch 67/100\n",
      "112/112 [==============================] - 37s - loss: 0.6025 - acc: 0.7792 - val_loss: 1.9429 - val_acc: 0.4748\n",
      "Epoch 68/100\n",
      "112/112 [==============================] - 36s - loss: 0.5919 - acc: 0.7815 - val_loss: 1.9306 - val_acc: 0.4814\n",
      "Epoch 69/100\n",
      "112/112 [==============================] - 36s - loss: 0.5897 - acc: 0.7811 - val_loss: 1.9652 - val_acc: 0.4769\n",
      "Epoch 70/100\n",
      "112/112 [==============================] - 36s - loss: 0.5802 - acc: 0.7887 - val_loss: 1.9732 - val_acc: 0.4742\n",
      "Epoch 71/100\n",
      "112/112 [==============================] - 36s - loss: 0.5862 - acc: 0.7829 - val_loss: 1.9728 - val_acc: 0.4718\n",
      "Epoch 72/100\n",
      "112/112 [==============================] - 36s - loss: 0.5732 - acc: 0.7870 - val_loss: 2.0066 - val_acc: 0.4748\n",
      "Epoch 73/100\n",
      "112/112 [==============================] - 36s - loss: 0.5784 - acc: 0.7869 - val_loss: 2.0022 - val_acc: 0.4805\n",
      "Epoch 74/100\n",
      "112/112 [==============================] - 37s - loss: 0.5709 - acc: 0.7914 - val_loss: 2.0134 - val_acc: 0.4802\n",
      "Epoch 75/100\n",
      "112/112 [==============================] - 36s - loss: 0.5636 - acc: 0.7909 - val_loss: 2.0774 - val_acc: 0.4703\n",
      "Epoch 76/100\n",
      "112/112 [==============================] - 36s - loss: 0.5567 - acc: 0.7933 - val_loss: 2.0132 - val_acc: 0.4752\n",
      "Epoch 77/100\n",
      "112/112 [==============================] - 37s - loss: 0.5665 - acc: 0.7930 - val_loss: 1.9722 - val_acc: 0.4757\n",
      "Epoch 78/100\n",
      "112/112 [==============================] - 36s - loss: 0.5555 - acc: 0.7940 - val_loss: 2.0272 - val_acc: 0.4700\n",
      "Epoch 79/100\n",
      "112/112 [==============================] - 36s - loss: 0.5562 - acc: 0.7938 - val_loss: 2.1058 - val_acc: 0.4613\n",
      "Epoch 80/100\n",
      "112/112 [==============================] - 36s - loss: 0.5482 - acc: 0.7974 - val_loss: 2.1239 - val_acc: 0.4802\n",
      "Epoch 81/100\n",
      "112/112 [==============================] - 37s - loss: 0.5476 - acc: 0.7998 - val_loss: 2.0808 - val_acc: 0.4754\n",
      "Epoch 82/100\n",
      "112/112 [==============================] - 36s - loss: 0.5371 - acc: 0.8026 - val_loss: 2.0927 - val_acc: 0.4805\n",
      "Epoch 83/100\n",
      "112/112 [==============================] - 37s - loss: 0.5388 - acc: 0.8000 - val_loss: 2.0648 - val_acc: 0.4769\n",
      "Epoch 84/100\n",
      "112/112 [==============================] - 37s - loss: 0.5311 - acc: 0.8047 - val_loss: 2.1452 - val_acc: 0.4637\n",
      "Epoch 85/100\n",
      "112/112 [==============================] - 36s - loss: 0.5181 - acc: 0.8097 - val_loss: 2.1670 - val_acc: 0.4637\n",
      "Epoch 86/100\n",
      "112/112 [==============================] - 36s - loss: 0.5275 - acc: 0.8080 - val_loss: 2.1004 - val_acc: 0.4805\n",
      "Epoch 87/100\n",
      "112/112 [==============================] - 37s - loss: 0.5195 - acc: 0.8112 - val_loss: 2.2351 - val_acc: 0.4649\n",
      "Epoch 88/100\n",
      "112/112 [==============================] - 36s - loss: 0.5239 - acc: 0.8084 - val_loss: 2.1374 - val_acc: 0.4745\n",
      "Epoch 89/100\n",
      "112/112 [==============================] - 36s - loss: 0.5155 - acc: 0.8110 - val_loss: 2.1200 - val_acc: 0.4820\n",
      "Epoch 90/100\n",
      "112/112 [==============================] - 37s - loss: 0.5080 - acc: 0.8135 - val_loss: 2.1080 - val_acc: 0.4778\n",
      "Epoch 91/100\n",
      "112/112 [==============================] - 40s - loss: 0.5073 - acc: 0.8144 - val_loss: 2.1709 - val_acc: 0.4704\n",
      "Epoch 92/100\n",
      "112/112 [==============================] - 42s - loss: 0.5207 - acc: 0.8089 - val_loss: 2.1345 - val_acc: 0.4784\n",
      "Epoch 93/100\n",
      "112/112 [==============================] - 42s - loss: 0.5078 - acc: 0.8156 - val_loss: 2.1913 - val_acc: 0.4745\n",
      "Epoch 94/100\n",
      "112/112 [==============================] - 38s - loss: 0.5046 - acc: 0.8146 - val_loss: 2.1926 - val_acc: 0.4772\n",
      "Epoch 95/100\n",
      "112/112 [==============================] - 38s - loss: 0.4919 - acc: 0.8193 - val_loss: 2.2164 - val_acc: 0.4778\n",
      "Epoch 96/100\n",
      "112/112 [==============================] - 38s - loss: 0.4878 - acc: 0.8209 - val_loss: 2.1843 - val_acc: 0.4752\n",
      "Epoch 97/100\n",
      "112/112 [==============================] - 38s - loss: 0.4837 - acc: 0.8231 - val_loss: 2.2035 - val_acc: 0.4676\n",
      "Epoch 98/100\n",
      "112/112 [==============================] - 38s - loss: 0.4917 - acc: 0.8203 - val_loss: 2.1649 - val_acc: 0.4886\n",
      "Epoch 99/100\n",
      "112/112 [==============================] - 40s - loss: 0.4836 - acc: 0.8204 - val_loss: 2.2700 - val_acc: 0.4772\n",
      "Epoch 100/100\n",
      "112/112 [==============================] - 39s - loss: 0.4693 - acc: 0.8287 - val_loss: 2.3021 - val_acc: 0.4748\n"
     ]
    },
    {
     "data": {
      "text/plain": [
       "<keras.callbacks.History at 0x1e0c84cee80>"
      ]
     },
     "execution_count": 14,
     "metadata": {},
     "output_type": "execute_result"
    }
   ],
   "source": [
    "model.fit_generator(train_datagen.flow(x_train, y_train_onehot, batch_size=batch_size)\n",
    "                    , steps_per_epoch=n_train//batch_size\n",
    "                    , epochs=epochs\n",
    "                    , validation_data=test_datagen.flow(x_test, y_test_onehot, batch_size=batch_size)\n",
    "                    , validation_steps=n_test//batch_size)"
   ]
  },
  {
   "cell_type": "code",
   "execution_count": 15,
   "metadata": {},
   "outputs": [
    {
     "data": {
      "text/plain": [
       "[2.2395591638962347, 0.47877620322601711]"
      ]
     },
     "execution_count": 15,
     "metadata": {},
     "output_type": "execute_result"
    }
   ],
   "source": [
    "# save and evaluate model\n",
    "model.save_weights('./Model/simple model_epoch100.h5')\n",
    "model.evaluate_generator(test_datagen.flow(x_test, y_test_onehot, batch_size=batch_size), steps=batch_size)"
   ]
  },
  {
   "cell_type": "code",
   "execution_count": 16,
   "metadata": {},
   "outputs": [
    {
     "name": "stderr",
     "output_type": "stream",
     "text": [
      "C:\\Program Files (x86)\\Python35-64bit\\lib\\site-packages\\keras\\preprocessing\\image.py:648: UserWarning: Expected input to be images (as Numpy array) following the data format convention \"channels_last\" (channels on axis 3), i.e. expected either 1, 3 or 4 channels on axis 3. However, it was passed an array with shape (3589, 48, 48, 1) (1 channels).\n",
      "  ' (' + str(x.shape[self.channel_axis]) + ' channels).')\n"
     ]
    },
    {
     "data": {
      "text/plain": [
       "[2.1483092521727705, 0.49375703864288545]"
      ]
     },
     "execution_count": 16,
     "metadata": {},
     "output_type": "execute_result"
    }
   ],
   "source": [
    "# test model\n",
    "test_datagen.fit(x_private)\n",
    "model.evaluate_generator(test_datagen.flow(x_private, y_private_onehot, batch_size=batch_size), steps=batch_size)"
   ]
  }
 ],
 "metadata": {
  "kernelspec": {
   "display_name": "Python 3",
   "language": "python",
   "name": "python3"
  },
  "language_info": {
   "codemirror_mode": {
    "name": "ipython",
    "version": 3
   },
   "file_extension": ".py",
   "mimetype": "text/x-python",
   "name": "python",
   "nbconvert_exporter": "python",
   "pygments_lexer": "ipython3",
   "version": "3.5.3"
  }
 },
 "nbformat": 4,
 "nbformat_minor": 2
}
