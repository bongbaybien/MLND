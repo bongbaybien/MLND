{
 "cells": [
  {
   "cell_type": "code",
   "execution_count": 16,
   "metadata": {},
   "outputs": [
    {
     "name": "stdout",
     "output_type": "stream",
     "text": [
      "The autoreload extension is already loaded. To reload it, use:\n",
      "  %reload_ext autoreload\n"
     ]
    }
   ],
   "source": [
    "%load_ext autoreload\n",
    "%autoreload 2\n",
    "\n",
    "import helper3 as helper\n",
    "from PIL import Image\n",
    "import numpy as np\n",
    "import matplotlib.pyplot as plt\n",
    "import csv\n",
    "import numpy as np\n",
    "from keras.preprocessing.image import ImageDataGenerator\n",
    "from keras.models import Sequential\n",
    "from keras.layers.convolutional import Cropping2D, Conv2D, ZeroPadding2D\n",
    "from keras.layers.pooling import MaxPooling2D, AveragePooling2D\n",
    "from keras.layers.core import Flatten, Dropout, Dense\n",
    "from keras import optimizers\n",
    "from keras.callbacks import ReduceLROnPlateau, ModelCheckpoint, EarlyStopping, TensorBoard\n",
    "import keras.backend as k\n",
    "from keras.initializers import TruncatedNormal\n",
    "from keras.layers.normalization import BatchNormalization\n",
    "from keras.layers import Activation\n",
    "from keras.layers.advanced_activations import LeakyReLU\n",
    "import keras\n",
    "import h5py\n",
    "import pdb\n",
    "import matplotlib.pyplot as plt\n",
    "from imblearn.over_sampling import RandomOverSampler\n",
    "seed = 1\n",
    "import h5py\n",
    "import pdb\n",
    "from sklearn.utils import class_weight\n",
    "from skimage import exposure\n",
    "import cv2\n",
    "\n",
    "#turn off warnings\n",
    "import warnings\n",
    "warnings.filterwarnings(\"ignore\")\n",
    "\n",
    "%matplotlib inline\n"
   ]
  },
  {
   "cell_type": "markdown",
   "metadata": {},
   "source": [
    "# Read in data, format, & preprocess"
   ]
  },
  {
   "cell_type": "code",
   "execution_count": 5,
   "metadata": {
    "collapsed": true
   },
   "outputs": [],
   "source": [
    "emotion_dict = {0:'angry', 1:'disgust', 2:'fear', 3:'happy', 4:'sad', 5:'surprise', 6:'neutral'}\n",
    "image_shape = (48,48,1)\n",
    "n_classes = len(emotion_dict)\n",
    "n_features = np.product(image_shape)\n",
    "\n",
    "# read in data\n",
    "file_path = './Data/Kaggle-FER/fer2013.csv'\n",
    "data_raw = helper.read_in_data(file_path) # data is a tuple of (x_list, y_list, usage_list)\n",
    "\n",
    "# convert data to numpy array\n",
    "data_formatted = helper.format(data_raw, image_shape, n_classes) # return tuple of (x_array, y_array, usage_list)\n",
    "\n",
    "# number of example for each class\n",
    "label, count = np.unique(data_formatted[1], return_counts=True)\n",
    "print(dict(zip(label, count)))\n",
    "\n",
    "# split into train & test sets. Test set = public, private set is used for final testing, to be consistent with the competition\n",
    "(x_train, y_train), (x_test, y_test), (x_private, y_private) = helper.create_train_test(data_formatted, n_classes)"
   ]
  },
  {
   "cell_type": "markdown",
   "metadata": {},
   "source": [
    "# take a sample"
   ]
  },
  {
   "cell_type": "code",
   "execution_count": 8,
   "metadata": {
    "collapsed": true
   },
   "outputs": [],
   "source": [
    "# # take a random sample\n",
    "# n_sample = 100\n",
    "\n",
    "# x_train = x_train[0:n_sample]\n",
    "# y_train = y_train[0:n_sample]\n",
    "# x_test = x_test[0:n_sample]\n",
    "# y_test = y_test[0:n_sample]\n",
    "# x_private = x_private[0:n_sample]\n",
    "# y_private = y_private[0:n_sample]"
   ]
  },
  {
   "cell_type": "code",
   "execution_count": 9,
   "metadata": {
    "collapsed": true
   },
   "outputs": [],
   "source": [
    "# select certain class\n",
    "selected_classes = [3,4]\n",
    "n_sample = 50\n",
    "\n",
    "mask = np.isin(y_train, selected_classes).reshape(-1)\n",
    "# print('mask shape', mask.shape)\n",
    "x_train = x_train[mask][0:n_sample]\n",
    "y_train = y_train[mask][0:n_sample]\n",
    "\n",
    "mask = np.isin(y_test, selected_classes).reshape(-1)\n",
    "x_test = x_test[mask][0:n_sample]\n",
    "y_test = y_test[mask][0:n_sample]\n"
   ]
  },
  {
   "cell_type": "code",
   "execution_count": 10,
   "metadata": {},
   "outputs": [
    {
     "name": "stdout",
     "output_type": "stream",
     "text": [
      "training set {3: 30, 4: 20}\n",
      "validation set {3: 32, 4: 18}\n"
     ]
    }
   ],
   "source": [
    "# number of example for each class\n",
    "label, count = np.unique(y_train, return_counts=True)\n",
    "print('training set', dict(zip(label, count)))\n",
    "\n",
    "label, count = np.unique(y_test, return_counts=True)\n",
    "print('validation set', dict(zip(label, count)))"
   ]
  },
  {
   "cell_type": "markdown",
   "metadata": {},
   "source": [
    "# test preprocessing"
   ]
  },
  {
   "cell_type": "code",
   "execution_count": 18,
   "metadata": {
    "collapsed": true
   },
   "outputs": [],
   "source": [
    "def preprocess():\n",
    "    rescale_factor = 255\n",
    "    train_datagen = ImageDataGenerator(featurewise_center=True\n",
    "                                       , featurewise_std_normalization=True\n",
    "                                       , horizontal_flip=True\n",
    "#                                        , preprocessing_function=exposure.equalize_hist\n",
    "                                       , width_shift_range=0.2\n",
    "#                                        , height_shift_range=0.2, rotation_range=.45\n",
    "#                                        , shear_range=0.2, zoom_range=0.2\n",
    "                                      )\n",
    "#     pdb.set_trace()\n",
    "    train_datagen.fit(x_train)\n",
    "\n",
    "    # print('x_train[0]', x_train[index])\n",
    "    # for index in range(len(x_train)):\n",
    "    #     np.savetxt('x_train_' + str(index) + '.csv', x_train[index], delimiter=',')\n",
    "\n",
    "    #     for batch in train_datagen.flow(np.reshape(x_train[index], (1,*image_shape))\n",
    "    #                                     , batch_size=1):\n",
    "    #         np.savetxt('x_train_preprocessed_' + str(index) + '.csv', np.reshape(batch, image_shape), delimiter=',')\n",
    "    #     #     print(type(batch))\n",
    "    #     #     print(batch.shape)\n",
    "    #         break\n",
    "\n",
    "\n",
    "preprocess()"
   ]
  },
  {
   "cell_type": "code",
   "execution_count": 17,
   "metadata": {
    "collapsed": true
   },
   "outputs": [],
   "source": [
    "def adapthistequal(img):\n",
    "    return exposure.equalize_adapthist(np.reshape(img, (48,48)))"
   ]
  },
  {
   "cell_type": "code",
   "execution_count": 11,
   "metadata": {},
   "outputs": [
    {
     "name": "stdout",
     "output_type": "stream",
     "text": [
      "happy\n"
     ]
    },
    {
     "data": {
      "image/png": "[encoded data removed]",
      "text/plain": [
       "<matplotlib.figure.Figure at 0xe92a780>"
      ]
     },
     "metadata": {},
     "output_type": "display_data"
    }
   ],
   "source": [
    "# preprocess: normalized\n",
    "train_datagen = ImageDataGenerator(featurewise_center=True\n",
    "                                       , featurewise_std_normalization=True\n",
    "                                       , horizontal_flip=True\n",
    "#                                        , preprocessing_function=exposure.equalize_hist\n",
    "#                                        , width_shift_range=0.2\n",
    "#                                        , height_shift_range=0.2\n",
    "#                                        , rotation_range=.45\n",
    "#                                        , shear_range=0.2\n",
    "                                        , zoom_range=0.2\n",
    "                                      )\n",
    "train_datagen.fit(x_train)\n",
    "\n",
    "# test_datagen = ImageDataGenerator(featurewise_center=True, featurewise_std_normalization=True)\n",
    "# test_datagen.fit(x_train)\n",
    "\n",
    "\n",
    "# visual data\n",
    "index = 8\n",
    "\n",
    "img_array = np.reshape(x_train[index], (48,48))\n",
    "plt.imshow(img_array, cmap='gray')\n",
    "print(emotion_dict[y_train[index,0]])\n",
    "\n",
    "# after preprocess\n",
    "i = 0\n",
    "for batch in train_datagen.flow(np.reshape(x_train[index], (1,*image_shape))\n",
    "                                , batch_size=32, save_to_dir='preview', save_format='jpeg'):\n",
    "    i += 1\n",
    "    if i > 20:\n",
    "        break"
   ]
  },
  {
   "cell_type": "markdown",
   "metadata": {},
   "source": [
    "# Build model & train"
   ]
  },
  {
   "cell_type": "code",
   "execution_count": 11,
   "metadata": {
    "collapsed": true
   },
   "outputs": [],
   "source": [
    "# one-hot encode\n",
    "y_train_onehot = keras.utils.to_categorical(y_train, n_classes)\n",
    "y_test_onehot = keras.utils.to_categorical(y_test, n_classes)\n",
    "y_private_onehot = keras.utils.to_categorical(y_private, n_classes)"
   ]
  },
  {
   "cell_type": "code",
   "execution_count": 12,
   "metadata": {},
   "outputs": [
    {
     "name": "stdout",
     "output_type": "stream",
     "text": [
      "(50, 48, 48, 1)\n",
      "(50, 1)\n",
      "(50, 7)\n",
      "(50, 48, 48, 1)\n",
      "(50, 1)\n",
      "(50, 7)\n",
      "(3589, 48, 48, 1)\n",
      "(3589, 1)\n",
      "(3589, 7)\n"
     ]
    }
   ],
   "source": [
    "print(x_train.shape)\n",
    "print(y_train.shape)\n",
    "print(y_train_onehot.shape)\n",
    "print(x_test.shape)\n",
    "print(y_test.shape)\n",
    "print(y_test_onehot.shape)\n",
    "print(x_private.shape)\n",
    "print(y_private.shape)\n",
    "print(y_private_onehot.shape)"
   ]
  },
  {
   "cell_type": "code",
   "execution_count": 13,
   "metadata": {
    "collapsed": true
   },
   "outputs": [],
   "source": [
    "# hyperparameters\n",
    "epochs = 10\n",
    "batch_size = 256\n",
    "n_train = len(x_train)\n",
    "n_test = len(x_test)"
   ]
  },
  {
   "cell_type": "markdown",
   "metadata": {},
   "source": [
    "# custom model"
   ]
  },
  {
   "cell_type": "code",
   "execution_count": 17,
   "metadata": {},
   "outputs": [
    {
     "name": "stdout",
     "output_type": "stream",
     "text": [
      "_________________________________________________________________\n",
      "Layer (type)                 Output Shape              Param #   \n",
      "=================================================================\n",
      "block1_crop (Cropping2D)     (None, 42, 42, 1)         0         \n",
      "_________________________________________________________________\n",
      "block1_conv (Conv2D)         (None, 42, 42, 32)        320       \n",
      "_________________________________________________________________\n",
      "block1_bn (BatchNormalizatio (None, 42, 42, 32)        128       \n",
      "_________________________________________________________________\n",
      "block1_relu (LeakyReLU)      (None, 42, 42, 32)        0         \n",
      "_________________________________________________________________\n",
      "block1_pool (MaxPooling2D)   (None, 21, 21, 32)        0         \n",
      "_________________________________________________________________\n",
      "block2_pad (ZeroPadding2D)   (None, 23, 23, 32)        0         \n",
      "_________________________________________________________________\n",
      "block2_conv (Conv2D)         (None, 20, 20, 32)        16416     \n",
      "_________________________________________________________________\n",
      "block2_bn (BatchNormalizatio (None, 20, 20, 32)        128       \n",
      "_________________________________________________________________\n",
      "block2_relu (LeakyReLU)      (None, 20, 20, 32)        0         \n",
      "_________________________________________________________________\n",
      "block2_pool (AveragePooling2 (None, 10, 10, 32)        0         \n",
      "_________________________________________________________________\n",
      "block3_conv (Conv2D)         (None, 10, 10, 64)        51264     \n",
      "_________________________________________________________________\n",
      "block3_bn (BatchNormalizatio (None, 10, 10, 64)        256       \n",
      "_________________________________________________________________\n",
      "block3_relu (LeakyReLU)      (None, 10, 10, 64)        0         \n",
      "_________________________________________________________________\n",
      "block3_pool (AveragePooling2 (None, 5, 5, 64)          0         \n",
      "_________________________________________________________________\n",
      "block4_flat (Flatten)        (None, 1600)              0         \n",
      "_________________________________________________________________\n",
      "block4_dropout (Dropout)     (None, 1600)              0         \n",
      "_________________________________________________________________\n",
      "block4_fc (Dense)            (None, 3072)              4918272   \n",
      "_________________________________________________________________\n",
      "block4_relu (LeakyReLU)      (None, 3072)              0         \n",
      "_________________________________________________________________\n",
      "block4_out (Dense)           (None, 7)                 21511     \n",
      "_________________________________________________________________\n",
      "block4_softmax (Activation)  (None, 7)                 0         \n",
      "=================================================================\n",
      "Total params: 5,008,295\n",
      "Trainable params: 5,008,039\n",
      "Non-trainable params: 256\n",
      "_________________________________________________________________\n"
     ]
    }
   ],
   "source": [
    "model_name = '1st_place'\n",
    "kernel_initializer = TruncatedNormal(seed=1)\n",
    "kernel_regularizer = None\n",
    "batch_norm = True\n",
    "\n",
    "model = Sequential(name=model_name)\n",
    "model.add(Cropping2D(cropping=3, input_shape=image_shape, name='block1_crop'))\n",
    "model.add(Conv2D(32, (3,3), padding='same', kernel_initializer=kernel_initializer\n",
    "            , kernel_regularizer=kernel_regularizer\n",
    "            , name='block1_conv'))\n",
    "if batch_norm==True:\n",
    "    model.add(BatchNormalization(axis=3, name='block1_bn'))\n",
    "model.add(LeakyReLU(name='block1_relu'))\n",
    "model.add(MaxPooling2D((2,2), strides=(2,2), padding='valid', name='block1_pool'))\n",
    "\n",
    "model.add(ZeroPadding2D(padding=1, name='block2_pad'))\n",
    "model.add(Conv2D(32, (4,4), padding='valid', kernel_initializer=kernel_initializer\n",
    "            , kernel_regularizer=kernel_regularizer\n",
    "            , name='block2_conv'))\n",
    "if batch_norm==True:\n",
    "    model.add(BatchNormalization(axis=3, name='block2_bn'))\n",
    "model.add(LeakyReLU(name='block2_relu'))\n",
    "model.add(AveragePooling2D((2,2), strides=(2,2), padding='valid', name='block2_pool'))\n",
    "\n",
    "model.add(Conv2D(64, (5,5), padding='same', kernel_initializer=kernel_initializer\n",
    "            , kernel_regularizer=kernel_regularizer\n",
    "            , name='block3_conv'))\n",
    "if batch_norm==True:\n",
    "    model.add(BatchNormalization(axis=3, name='block3_bn'))\n",
    "model.add(LeakyReLU(name='block3_relu'))\n",
    "model.add(AveragePooling2D((2,2), strides=(2,2), padding='valid', name='block3_pool'))\n",
    "\n",
    "model.add(Flatten(name='block4_flat'))\n",
    "# TODO is this where dropout should be?\n",
    "model.add(Dropout(0.2, seed=seed, name='block4_dropout'))\n",
    "model.add(Dense(3072, kernel_initializer=kernel_initializer, kernel_regularizer=kernel_regularizer, name='block4_fc'))\n",
    "# if batch_norm==True:\n",
    "    # model.add(BatchNormalization())\n",
    "model.add(LeakyReLU(name='block4_relu'))\n",
    "# TODO svm Activations function\n",
    "model.add(Dense(n_classes, kernel_initializer=kernel_initializer, kernel_regularizer=kernel_regularizer, name='block4_out'))\n",
    "# if batch_norm==True:\n",
    "    # model.add(BatchNormalization())\n",
    "model.add(Activation('softmax', name='block4_softmax'))\n",
    "\n",
    "model.summary()"
   ]
  },
  {
   "cell_type": "code",
   "execution_count": 18,
   "metadata": {},
   "outputs": [
    {
     "name": "stdout",
     "output_type": "stream",
     "text": [
      "_________________________________________________________________\n",
      "Layer (type)                 Output Shape              Param #   \n",
      "=================================================================\n",
      "block0_crop (Cropping2D)     (None, 42, 42, 1)         0         \n",
      "_________________________________________________________________\n",
      "block1_conv (Conv2D)         (None, 42, 42, 16)        160       \n",
      "_________________________________________________________________\n",
      "block1_bn (BatchNormalizatio (None, 42, 42, 16)        64        \n",
      "_________________________________________________________________\n",
      "block1_relu (LeakyReLU)      (None, 42, 42, 16)        0         \n",
      "_________________________________________________________________\n",
      "block1_pool (MaxPooling2D)   (None, 21, 21, 16)        0         \n",
      "_________________________________________________________________\n",
      "block1_conv (Conv2D)         (None, 21, 21, 32)        12832     \n",
      "_________________________________________________________________\n",
      "block1_bn (BatchNormalizatio (None, 21, 21, 32)        128       \n",
      "_________________________________________________________________\n",
      "block1_relu (LeakyReLU)      (None, 21, 21, 32)        0         \n",
      "_________________________________________________________________\n",
      "block1_pool (MaxPooling2D)   (None, 10, 10, 32)        0         \n",
      "_________________________________________________________________\n",
      "block2_pad (ZeroPadding2D)   (None, 12, 12, 32)        0         \n",
      "_________________________________________________________________\n",
      "block2_conv (Conv2D)         (None, 9, 9, 32)          16416     \n",
      "_________________________________________________________________\n",
      "block2_bn (BatchNormalizatio (None, 9, 9, 32)          128       \n",
      "_________________________________________________________________\n",
      "block2_relu (LeakyReLU)      (None, 9, 9, 32)          0         \n",
      "_________________________________________________________________\n",
      "block2_pool (AveragePooling2 (None, 4, 4, 32)          0         \n",
      "_________________________________________________________________\n",
      "block3_conv (Conv2D)         (None, 4, 4, 64)          51264     \n",
      "_________________________________________________________________\n",
      "block3_bn (BatchNormalizatio (None, 4, 4, 64)          256       \n",
      "_________________________________________________________________\n",
      "block3_relu (LeakyReLU)      (None, 4, 4, 64)          0         \n",
      "_________________________________________________________________\n",
      "block3_pool (AveragePooling2 (None, 2, 2, 64)          0         \n",
      "_________________________________________________________________\n",
      "block4_flat (Flatten)        (None, 256)               0         \n",
      "_________________________________________________________________\n",
      "block4_dropout (Dropout)     (None, 256)               0         \n",
      "_________________________________________________________________\n",
      "block4_fc (Dense)            (None, 3072)              789504    \n",
      "_________________________________________________________________\n",
      "block4_relu (LeakyReLU)      (None, 3072)              0         \n",
      "_________________________________________________________________\n",
      "block4_out (Dense)           (None, 7)                 21511     \n",
      "_________________________________________________________________\n",
      "block4_softmax (Activation)  (None, 7)                 0         \n",
      "=================================================================\n",
      "Total params: 892,263\n",
      "Trainable params: 891,975\n",
      "Non-trainable params: 288\n",
      "_________________________________________________________________\n"
     ]
    }
   ],
   "source": [
    "model_name = '1st_place'\n",
    "kernel_initializer = TruncatedNormal(seed=1)\n",
    "kernel_regularizer = None\n",
    "batch_norm = True\n",
    "\n",
    "model = Sequential(name=model_name)\n",
    "model.add(Cropping2D(cropping=3, input_shape=image_shape, name='block0_crop'))\n",
    "\n",
    "model.add(Conv2D(16, (3,3), padding='same', kernel_initializer=kernel_initializer\n",
    "            , kernel_regularizer=kernel_regularizer\n",
    "            , name='block1_conv'))\n",
    "if batch_norm==True:\n",
    "    model.add(BatchNormalization(axis=3, name='block1_bn'))\n",
    "model.add(LeakyReLU(name='block1_relu'))\n",
    "model.add(MaxPooling2D((2,2), strides=(2,2), padding='valid', name='block1_pool'))\n",
    "\n",
    "\n",
    "model.add(Conv2D(32, (5,5), padding='same', kernel_initializer=kernel_initializer\n",
    "            , kernel_regularizer=kernel_regularizer\n",
    "            , name='block1_conv'))\n",
    "if batch_norm==True:\n",
    "    model.add(BatchNormalization(axis=3, name='block1_bn'))\n",
    "model.add(LeakyReLU(name='block1_relu'))\n",
    "model.add(MaxPooling2D((2,2), strides=(2,2), padding='valid', name='block1_pool'))\n",
    "\n",
    "model.add(ZeroPadding2D(padding=1, name='block2_pad'))\n",
    "model.add(Conv2D(32, (4,4), padding='valid', kernel_initializer=kernel_initializer\n",
    "            , kernel_regularizer=kernel_regularizer\n",
    "            , name='block2_conv'))\n",
    "if batch_norm==True:\n",
    "    model.add(BatchNormalization(axis=3, name='block2_bn'))\n",
    "model.add(LeakyReLU(name='block2_relu'))\n",
    "model.add(AveragePooling2D((2,2), strides=(2,2), padding='valid', name='block2_pool'))\n",
    "\n",
    "model.add(Conv2D(64, (5,5), padding='same', kernel_initializer=kernel_initializer\n",
    "            , kernel_regularizer=kernel_regularizer\n",
    "            , name='block3_conv'))\n",
    "if batch_norm==True:\n",
    "    model.add(BatchNormalization(axis=3, name='block3_bn'))\n",
    "model.add(LeakyReLU(name='block3_relu'))\n",
    "model.add(AveragePooling2D((2,2), strides=(2,2), padding='valid', name='block3_pool'))\n",
    "\n",
    "model.add(Flatten(name='block4_flat'))\n",
    "# TODO is this where dropout should be?\n",
    "model.add(Dropout(0.2, seed=seed, name='block4_dropout'))\n",
    "model.add(Dense(3072, kernel_initializer=kernel_initializer, kernel_regularizer=kernel_regularizer, name='block4_fc'))\n",
    "# if batch_norm==True:\n",
    "    # model.add(BatchNormalization())\n",
    "model.add(LeakyReLU(name='block4_relu'))\n",
    "# TODO svm Activations function\n",
    "model.add(Dense(n_classes, kernel_initializer=kernel_initializer, kernel_regularizer=kernel_regularizer, name='block4_out'))\n",
    "# if batch_norm==True:\n",
    "    # model.add(BatchNormalization())\n",
    "model.add(Activation('softmax', name='block4_softmax'))\n",
    "\n",
    "model.summary()"
   ]
  },
  {
   "cell_type": "markdown",
   "metadata": {},
   "source": [
    "# 1st place model"
   ]
  },
  {
   "cell_type": "code",
   "execution_count": 14,
   "metadata": {},
   "outputs": [
    {
     "name": "stderr",
     "output_type": "stream",
     "text": [
      "C:\\Program Files (x86)\\Python35-64bit\\lib\\site-packages\\keras\\preprocessing\\image.py:648: UserWarning: Expected input to be images (as Numpy array) following the data format convention \"channels_last\" (channels on axis 3), i.e. expected either 1, 3 or 4 channels on axis 3. However, it was passed an array with shape (50, 48, 48, 1) (1 channels).\n",
      "  ' (' + str(x.shape[self.channel_axis]) + ' channels).')\n"
     ]
    },
    {
     "name": "stdout",
     "output_type": "stream",
     "text": [
      "_________________________________________________________________\n",
      "Layer (type)                 Output Shape              Param #   \n",
      "=================================================================\n",
      "Block1_Crop (Cropping2D)     (None, 42, 42, 1)         0         \n",
      "_________________________________________________________________\n",
      "Block1_Conv (Conv2D)         (None, 42, 42, 32)        832       \n",
      "_________________________________________________________________\n",
      "Block1_Pool (MaxPooling2D)   (None, 21, 21, 32)        0         \n",
      "_________________________________________________________________\n",
      "Block2_Pad (ZeroPadding2D)   (None, 23, 23, 32)        0         \n",
      "_________________________________________________________________\n",
      "Block2_Conv (Conv2D)         (None, 20, 20, 32)        16416     \n",
      "_________________________________________________________________\n",
      "Block2_Pool (AveragePooling2 (None, 10, 10, 32)        0         \n",
      "_________________________________________________________________\n",
      "Block3_Conv (Conv2D)         (None, 10, 10, 64)        51264     \n",
      "_________________________________________________________________\n",
      "Block3_Pool (AveragePooling2 (None, 5, 5, 64)          0         \n",
      "_________________________________________________________________\n",
      "Block4_Flat (Flatten)        (None, 1600)              0         \n",
      "_________________________________________________________________\n",
      "Block4_Dropout (Dropout)     (None, 1600)              0         \n",
      "_________________________________________________________________\n",
      "Block4_FC (Dense)            (None, 3072)              4918272   \n",
      "_________________________________________________________________\n",
      "Block4_Out (Dense)           (None, 7)                 21511     \n",
      "=================================================================\n",
      "Total params: 5,008,295\n",
      "Trainable params: 5,008,295\n",
      "Non-trainable params: 0\n",
      "_________________________________________________________________\n"
     ]
    },
    {
     "ename": "ValueError",
     "evalue": "When using a generator for validation data, you must specify a value for `validation_steps`.",
     "output_type": "error",
     "traceback": [
      "\u001b[1;31m---------------------------------------------------------------------------\u001b[0m",
      "\u001b[1;31mValueError\u001b[0m                                Traceback (most recent call last)",
      "\u001b[1;32m<ipython-input-14-9d7ef04d7e40>\u001b[0m in \u001b[0;36m<module>\u001b[1;34m()\u001b[0m\n\u001b[0;32m     59\u001b[0m                     \u001b[1;33m,\u001b[0m \u001b[0mvalidation_data\u001b[0m\u001b[1;33m=\u001b[0m\u001b[0mtest_datagen\u001b[0m\u001b[1;33m.\u001b[0m\u001b[0mflow\u001b[0m\u001b[1;33m(\u001b[0m\u001b[0mx_test\u001b[0m\u001b[1;33m,\u001b[0m \u001b[0my_test_onehot\u001b[0m\u001b[1;33m,\u001b[0m \u001b[0mbatch_size\u001b[0m\u001b[1;33m=\u001b[0m\u001b[0mbatch_size\u001b[0m\u001b[1;33m)\u001b[0m\u001b[1;33m\u001b[0m\u001b[0m\n\u001b[0;32m     60\u001b[0m                     \u001b[1;33m,\u001b[0m \u001b[0mvalidation_steps\u001b[0m\u001b[1;33m=\u001b[0m\u001b[0mn_test\u001b[0m\u001b[1;33m//\u001b[0m\u001b[0mbatch_size\u001b[0m\u001b[1;33m\u001b[0m\u001b[0m\n\u001b[1;32m---> 61\u001b[1;33m                     , callbacks=callbacks)\n\u001b[0m\u001b[0;32m     62\u001b[0m \u001b[1;33m\u001b[0m\u001b[0m\n\u001b[0;32m     63\u001b[0m \u001b[1;31m# inital_weights = model.get_weights()\u001b[0m\u001b[1;33m\u001b[0m\u001b[1;33m\u001b[0m\u001b[0m\n",
      "\u001b[1;32mC:\\Program Files (x86)\\Python35-64bit\\lib\\site-packages\\keras\\legacy\\interfaces.py\u001b[0m in \u001b[0;36mwrapper\u001b[1;34m(*args, **kwargs)\u001b[0m\n\u001b[0;32m     86\u001b[0m                 warnings.warn('Update your `' + object_name +\n\u001b[0;32m     87\u001b[0m                               '` call to the Keras 2 API: ' + signature, stacklevel=2)\n\u001b[1;32m---> 88\u001b[1;33m             \u001b[1;32mreturn\u001b[0m \u001b[0mfunc\u001b[0m\u001b[1;33m(\u001b[0m\u001b[1;33m*\u001b[0m\u001b[0margs\u001b[0m\u001b[1;33m,\u001b[0m \u001b[1;33m**\u001b[0m\u001b[0mkwargs\u001b[0m\u001b[1;33m)\u001b[0m\u001b[1;33m\u001b[0m\u001b[0m\n\u001b[0m\u001b[0;32m     89\u001b[0m         \u001b[0mwrapper\u001b[0m\u001b[1;33m.\u001b[0m\u001b[0m_legacy_support_signature\u001b[0m \u001b[1;33m=\u001b[0m \u001b[0minspect\u001b[0m\u001b[1;33m.\u001b[0m\u001b[0mgetargspec\u001b[0m\u001b[1;33m(\u001b[0m\u001b[0mfunc\u001b[0m\u001b[1;33m)\u001b[0m\u001b[1;33m\u001b[0m\u001b[0m\n\u001b[0;32m     90\u001b[0m         \u001b[1;32mreturn\u001b[0m \u001b[0mwrapper\u001b[0m\u001b[1;33m\u001b[0m\u001b[0m\n",
      "\u001b[1;32mC:\\Program Files (x86)\\Python35-64bit\\lib\\site-packages\\keras\\models.py\u001b[0m in \u001b[0;36mfit_generator\u001b[1;34m(self, generator, steps_per_epoch, epochs, verbose, callbacks, validation_data, validation_steps, class_weight, max_q_size, workers, pickle_safe, initial_epoch)\u001b[0m\n\u001b[0;32m   1122\u001b[0m                                         \u001b[0mworkers\u001b[0m\u001b[1;33m=\u001b[0m\u001b[0mworkers\u001b[0m\u001b[1;33m,\u001b[0m\u001b[1;33m\u001b[0m\u001b[0m\n\u001b[0;32m   1123\u001b[0m                                         \u001b[0mpickle_safe\u001b[0m\u001b[1;33m=\u001b[0m\u001b[0mpickle_safe\u001b[0m\u001b[1;33m,\u001b[0m\u001b[1;33m\u001b[0m\u001b[0m\n\u001b[1;32m-> 1124\u001b[1;33m                                         initial_epoch=initial_epoch)\n\u001b[0m\u001b[0;32m   1125\u001b[0m \u001b[1;33m\u001b[0m\u001b[0m\n\u001b[0;32m   1126\u001b[0m     \u001b[1;33m@\u001b[0m\u001b[0minterfaces\u001b[0m\u001b[1;33m.\u001b[0m\u001b[0mlegacy_generator_methods_support\u001b[0m\u001b[1;33m\u001b[0m\u001b[0m\n",
      "\u001b[1;32mC:\\Program Files (x86)\\Python35-64bit\\lib\\site-packages\\keras\\legacy\\interfaces.py\u001b[0m in \u001b[0;36mwrapper\u001b[1;34m(*args, **kwargs)\u001b[0m\n\u001b[0;32m     86\u001b[0m                 warnings.warn('Update your `' + object_name +\n\u001b[0;32m     87\u001b[0m                               '` call to the Keras 2 API: ' + signature, stacklevel=2)\n\u001b[1;32m---> 88\u001b[1;33m             \u001b[1;32mreturn\u001b[0m \u001b[0mfunc\u001b[0m\u001b[1;33m(\u001b[0m\u001b[1;33m*\u001b[0m\u001b[0margs\u001b[0m\u001b[1;33m,\u001b[0m \u001b[1;33m**\u001b[0m\u001b[0mkwargs\u001b[0m\u001b[1;33m)\u001b[0m\u001b[1;33m\u001b[0m\u001b[0m\n\u001b[0m\u001b[0;32m     89\u001b[0m         \u001b[0mwrapper\u001b[0m\u001b[1;33m.\u001b[0m\u001b[0m_legacy_support_signature\u001b[0m \u001b[1;33m=\u001b[0m \u001b[0minspect\u001b[0m\u001b[1;33m.\u001b[0m\u001b[0mgetargspec\u001b[0m\u001b[1;33m(\u001b[0m\u001b[0mfunc\u001b[0m\u001b[1;33m)\u001b[0m\u001b[1;33m\u001b[0m\u001b[0m\n\u001b[0;32m     90\u001b[0m         \u001b[1;32mreturn\u001b[0m \u001b[0mwrapper\u001b[0m\u001b[1;33m\u001b[0m\u001b[0m\n",
      "\u001b[1;32mC:\\Program Files (x86)\\Python35-64bit\\lib\\site-packages\\keras\\engine\\training.py\u001b[0m in \u001b[0;36mfit_generator\u001b[1;34m(self, generator, steps_per_epoch, epochs, verbose, callbacks, validation_data, validation_steps, class_weight, max_q_size, workers, pickle_safe, initial_epoch)\u001b[0m\n\u001b[0;32m   1803\u001b[0m                    hasattr(validation_data, '__next__'))\n\u001b[0;32m   1804\u001b[0m         \u001b[1;32mif\u001b[0m \u001b[0mval_gen\u001b[0m \u001b[1;32mand\u001b[0m \u001b[1;32mnot\u001b[0m \u001b[0mvalidation_steps\u001b[0m\u001b[1;33m:\u001b[0m\u001b[1;33m\u001b[0m\u001b[0m\n\u001b[1;32m-> 1805\u001b[1;33m             raise ValueError('When using a generator for validation data, '\n\u001b[0m\u001b[0;32m   1806\u001b[0m                              \u001b[1;34m'you must specify a value for '\u001b[0m\u001b[1;33m\u001b[0m\u001b[0m\n\u001b[0;32m   1807\u001b[0m                              '`validation_steps`.')\n",
      "\u001b[1;31mValueError\u001b[0m: When using a generator for validation data, you must specify a value for `validation_steps`."
     ]
    }
   ],
   "source": [
    "# # preprocess\n",
    "# rescale_factor = 255\n",
    "# train_datagen = ImageDataGenerator(featurewise_center=True, featurewise_std_normalization=True\n",
    "#                                    , rotation_range=45., width_shift_range=0.2, height_shift_range=0.2\n",
    "#                                    , horizontal_flip=True, rescale=1./rescale_factor)\n",
    "# train_datagen.fit(x_train)\n",
    "\n",
    "# test_datagen = ImageDataGenerator(featurewise_center=True, featurewise_std_normalization=True\n",
    "#                                   , rescale=1./rescale_factor)\n",
    "# test_datagen.fit(x_train)\n",
    "\n",
    "\n",
    "# preprocess\n",
    "rescale_factor = 255\n",
    "train_datagen = ImageDataGenerator(featurewise_center=True, featurewise_std_normalization=True\n",
    "                                   , horizontal_flip=True)\n",
    "train_datagen.fit(x_train)\n",
    "\n",
    "test_datagen = ImageDataGenerator(featurewise_center=True, featurewise_std_normalization=True)\n",
    "test_datagen.fit(x_train)\n",
    "\n",
    "# build model\n",
    "model_name = '1st_place'\n",
    "model = Sequential(name=model_name)\n",
    "model.add(Cropping2D(cropping=3, input_shape=image_shape, name='Block1_Crop'))\n",
    "model.add(Conv2D(32, (5,5), padding='same', activation='relu', kernel_initializer='TruncatedNormal', name='Block1_Conv'))\n",
    "model.add(MaxPooling2D((2,2), strides=(2,2), padding='valid', name='Block1_Pool'))\n",
    "\n",
    "model.add(ZeroPadding2D(padding=1, name='Block2_Pad'))\n",
    "model.add(Conv2D(32, (4,4), padding='valid', activation='relu', kernel_initializer='TruncatedNormal', name='Block2_Conv'))\n",
    "model.add(AveragePooling2D((2,2), strides=(2,2), padding='valid', name='Block2_Pool'))\n",
    "\n",
    "model.add(Conv2D(64, (5,5), padding='same', activation='relu', kernel_initializer='TruncatedNormal', name='Block3_Conv'))\n",
    "model.add(AveragePooling2D((2,2), strides=(2,2), padding='valid', name='Block3_Pool'))\n",
    "\n",
    "model.add(Flatten(name='Block4_Flat'))\n",
    "# TODO is this where dropout should be?\n",
    "model.add(Dropout(0.2, name='Block4_Dropout'))\n",
    "model.add(Dense(3072, activation='relu', kernel_initializer='TruncatedNormal', name='Block4_FC'))\n",
    "# TODO svm activation function\n",
    "model.add(Dense(n_classes, activation='softmax', kernel_initializer='TruncatedNormal', name='Block4_Out'))\n",
    "\n",
    "model.summary()\n",
    "\n",
    "# compile model\n",
    "sgd = optimizers.SGD(momentum=0.9, nesterov=True)\n",
    "model.compile(loss='categorical_crossentropy', optimizer=sgd, metrics=['accuracy'])\n",
    "\n",
    "# callbacks\n",
    "reduce_lr = ReduceLROnPlateau(monitor='val_loss', factor=0.5, patience=5, min_lr=0.0001)\n",
    "checkpointer = ModelCheckpoint(filepath='./Model/1st_place_weights.hdf5', verbose=1, save_best_only=True)\n",
    "callbacks = [checkpointer, reduce_lr]\n",
    "\n",
    "batch_size = 256\n",
    "epochs = 50\n",
    "history = model.fit_generator(train_datagen.flow(x_train, y_train_onehot, batch_size=batch_size)\n",
    "                    , steps_per_epoch=n_train//batch_size\n",
    "                    , epochs=epochs\n",
    "                    , validation_data=test_datagen.flow(x_test, y_test_onehot, batch_size=batch_size)\n",
    "                    , validation_steps=n_test//batch_size\n",
    "                    , callbacks=callbacks)\n",
    "\n",
    "# inital_weights = model.get_weights()\n",
    "\n",
    "# # fit model\n",
    "# epoch_sets = 2\n",
    "# epochs = 1\n",
    "# batch_size = 50\n",
    "# weights = []\n",
    "\n",
    "# for es in range(epoch_sets):\n",
    "#     # get current lr\n",
    "#     lr = k.get_value(sgd.lr)\n",
    "#     print('epoch set:', es, 'lr value:', lr)\n",
    "    \n",
    "#     # fit model\n",
    "#     history = model.fit_generator(train_datagen.flow(x_train, y_train_onehot, batch_size=batch_size)\n",
    "#                         , steps_per_epoch=n_train//batch_size\n",
    "#                         , epochs=epochs\n",
    "#                         , validation_data=test_datagen.flow(x_test, y_test_onehot, batch_size=batch_size)\n",
    "#                         , validation_steps=n_test//batch_size)\n",
    "    \n",
    "#     # for every x number of epochs\n",
    "#     # check weights:updates ratio: histograms, store position\n",
    "#     weights.append(model.get_weights())\n",
    "    \n",
    "    \n",
    "    \n",
    "#     # plot loss, train & val acc\n",
    "    \n",
    "    \n",
    "    \n",
    "    \n",
    "#     # decay lr by half if running average loss (across y number of epochs) has stalled\n",
    "#     lr = lr / 2\n",
    "#     k.set_value(sgd.lr, lr)\n",
    "    \n",
    "    \n",
    "#     # after z number of epochs\n",
    "#     # activation distribution (histograms)\n",
    "    \n",
    "    \n",
    "#     # visualize layers\n",
    "    \n",
    "    \n",
    "    \n",
    "    \n",
    "# visualize loss\n",
    "plt.plot(history.history['loss'])\n",
    "plt.plot(history.history['val_loss'])\n",
    "plt.ylabel('loss')\n",
    "plt.xlabel('epoch')\n",
    "plt.legend(['train', 'test'], loc='upper left')"
   ]
  },
  {
   "cell_type": "markdown",
   "metadata": {},
   "source": [
    "# try to understand BaseLogger"
   ]
  },
  {
   "cell_type": "code",
   "execution_count": null,
   "metadata": {
    "collapsed": true
   },
   "outputs": [],
   "source": [
    "def train():\n",
    "    # compile model\n",
    "    sgd = optimizers.SGD(momentum=0.9, nesterov=True)\n",
    "    model.compile(loss='categorical_crossentropy', optimizer=sgd, metrics=['accuracy'])\n",
    "\n",
    "    # callbacks\n",
    "    reduce_lr = ReduceLROnPlateau(monitor='val_loss', factor=0.5, patience=5, min_lr=0.0001)\n",
    "    checkpointer = ModelCheckpoint(filepath='./Model/1st_place_weights.hdf5', verbose=1, save_best_only=True)\n",
    "    callbacks = [checkpointer, reduce_lr]\n",
    "\n",
    "    batch_size = 256\n",
    "    epochs = 50\n",
    "    \n",
    "    pdb.set_trace()\n",
    "    history = model.fit_generator(train_datagen.flow(x_train, y_train_onehot, batch_size=batch_size)\n",
    "                        , steps_per_epoch=n_train//batch_size\n",
    "                        , epochs=epochs\n",
    "                        , validation_data=test_datagen.flow(x_test, y_test_onehot, batch_size=batch_size)\n",
    "                        , validation_steps=n_test//batch_size\n",
    "                        , callbacks=callbacks)\n",
    "\n",
    "    "
   ]
  }
 ],
 "metadata": {
  "kernelspec": {
   "display_name": "Python 3",
   "language": "python",
   "name": "python3"
  },
  "language_info": {
   "codemirror_mode": {
    "name": "ipython",
    "version": 3
   },
   "file_extension": ".py",
   "mimetype": "text/x-python",
   "name": "python",
   "nbconvert_exporter": "python",
   "pygments_lexer": "ipython3",
   "version": "3.5.3"
  }
 },
 "nbformat": 4,
 "nbformat_minor": 2
}
