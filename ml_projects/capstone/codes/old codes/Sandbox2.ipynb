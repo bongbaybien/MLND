{
 "cells": [
  {
   "cell_type": "code",
   "execution_count": null,
   "metadata": {},
   "outputs": [
    {
     "name": "stdout",
     "output_type": "stream",
     "text": [
      "> <ipython-input-6-b0fb2100517f>(45)get_runs()\n",
      "-> runs = frame_list\n",
      "(Pdb) n\n",
      "> <ipython-input-6-b0fb2100517f>(46)get_runs()\n",
      "-> print(len(runs))\n",
      "(Pdb) n\n",
      "43\n",
      "> <ipython-input-6-b0fb2100517f>(47)get_runs()\n",
      "-> loop = asyncio.get_event_loop()\n",
      "(Pdb) n\n",
      "> <ipython-input-6-b0fb2100517f>(48)get_runs()\n",
      "-> tasks = asyncio.gather(*[fill_data(r) for r in runs])\n",
      "(Pdb) n\n",
      "> <ipython-input-6-b0fb2100517f>(49)get_runs()\n",
      "-> loop.run_until_complete(tasks)\n",
      "(Pdb) s\n",
      "--Call--\n",
      "> c:\\program files (x86)\\python35-64bit\\lib\\asyncio\\base_events.py(432)run_until_complete()\n",
      "-> def run_until_complete(self, future):\n",
      "(Pdb) s\n",
      "> c:\\program files (x86)\\python35-64bit\\lib\\asyncio\\base_events.py(443)run_until_complete()\n",
      "-> self._check_closed()\n",
      "(Pdb) s\n",
      "--Call--\n",
      "> c:\\program files (x86)\\python35-64bit\\lib\\asyncio\\base_events.py(355)_check_closed()\n",
      "-> def _check_closed(self):\n",
      "(Pdb) n\n",
      "> c:\\program files (x86)\\python35-64bit\\lib\\asyncio\\base_events.py(356)_check_closed()\n",
      "-> if self._closed:\n",
      "(Pdb) u\n",
      "> c:\\program files (x86)\\python35-64bit\\lib\\asyncio\\base_events.py(443)run_until_complete()\n",
      "-> self._check_closed()\n",
      "(Pdb) n\n",
      "> c:\\program files (x86)\\python35-64bit\\lib\\asyncio\\base_events.py(445)run_until_complete()\n",
      "-> new_task = not futures.isfuture(future)\n",
      "(Pdb) n\n",
      "> c:\\program files (x86)\\python35-64bit\\lib\\asyncio\\base_events.py(446)run_until_complete()\n",
      "-> future = tasks.ensure_future(future, loop=self)\n",
      "(Pdb) n\n",
      "> c:\\program files (x86)\\python35-64bit\\lib\\asyncio\\base_events.py(447)run_until_complete()\n",
      "-> if new_task:\n",
      "(Pdb) n\n",
      "> c:\\program files (x86)\\python35-64bit\\lib\\asyncio\\base_events.py(452)run_until_complete()\n",
      "-> future.add_done_callback(_run_until_complete_cb)\n",
      "(Pdb) n\n",
      "> c:\\program files (x86)\\python35-64bit\\lib\\asyncio\\base_events.py(453)run_until_complete()\n",
      "-> try:\n",
      "(Pdb) n\n",
      "> c:\\program files (x86)\\python35-64bit\\lib\\asyncio\\base_events.py(454)run_until_complete()\n",
      "-> self.run_forever()\n",
      "(Pdb) n\n",
      "processing request\n",
      "processing request\n",
      "processing request\n",
      "processing request\n",
      "processing request\n",
      "processing request\n",
      "processing request\n",
      "processing request\n",
      "processing request\n",
      "processing request\n",
      "processing request\n",
      "KeyboardInterrupt\n",
      "> c:\\program files (x86)\\python35-64bit\\lib\\asyncio\\base_events.py(454)run_until_complete()\n",
      "-> self.run_forever()\n"
     ]
    }
   ],
   "source": [
    "import pdb\n",
    "import sys\n",
    "import asyncio\n",
    "import requests\n",
    "\n",
    "\n",
    "_url = 'https://westus.api.cognitive.microsoft.com/emotion/v1.0/recognize'\n",
    "_key = '92cacf45cb404b5dbfb834528ca349c7'\n",
    "\n",
    "headers = dict()\n",
    "headers['Ocp-Apim-Subscription-Key'] = _key\n",
    "headers['Content-Type'] = 'application/octet-stream'\n",
    "\n",
    "\n",
    "@asyncio.coroutine\n",
    "def get(data):\n",
    "    print('processing request')\n",
    "    response = yield from requests.request('post', _url, json = None, data = data, headers = headers, params = None)\n",
    "#     try:\n",
    "#         print('processing request')\n",
    "#         response = yield from requests.request('post', _url, json = None, data = data, headers = headers, params = None)\n",
    "        \n",
    "#     except Exception as e:\n",
    "#         raise Exception(e)\n",
    "        \n",
    "#     else:\n",
    "#         if response.status_code == 200 or response.status_code == 201:\n",
    "#             if 'content-length' in response.headers and int(response.headers['content-length']) == 0: \n",
    "#                 result = None \n",
    "#             elif 'content-type' in response.headers and isinstance(response.headers['content-type'], str): \n",
    "#                 if 'application/json' in response.headers['content-type'].lower(): \n",
    "#                     result = yield from response.json() if response.content else None \n",
    "#                 elif 'image' in response.headers['content-type'].lower(): \n",
    "#                     result = yield from response.content\n",
    "    print('returning result')\n",
    "    return (yield from response.json())\n",
    "\n",
    "@asyncio.coroutine\n",
    "def fill_data(frame_dict):\n",
    "    data = frame_dict['data']\n",
    "    frame_dict['json'] = yield from get(data)\n",
    "\n",
    "def get_runs(frame_list):\n",
    "    pdb.set_trace()\n",
    "    runs = frame_list\n",
    "    print(len(runs))\n",
    "    loop = asyncio.get_event_loop()\n",
    "    tasks = asyncio.gather(*[fill_data(r) for r in runs])\n",
    "    loop.run_until_complete(tasks)\n",
    "    return runs\n",
    "\n",
    "# try:\n",
    "#     t = get_runs(frame_list)\n",
    "# except Exception as e:\n",
    "#     print(repr(e))\n",
    "#     sys.exit(1)\n",
    "\n",
    "get_runs(frame_list)\n"
   ]
  },
  {
   "cell_type": "code",
   "execution_count": 4,
   "metadata": {},
   "outputs": [
    {
     "data": {
      "text/plain": [
       "43"
      ]
     },
     "execution_count": 4,
     "metadata": {},
     "output_type": "execute_result"
    }
   ],
   "source": [
    "frame_list = [{'counter':i, 'data':frame} for i,frame in enumerate(frames)]\n",
    "len(frame_list)"
   ]
  },
  {
   "cell_type": "code",
   "execution_count": 5,
   "metadata": {},
   "outputs": [
    {
     "name": "stdout",
     "output_type": "stream",
     "text": [
      "43\n",
      "5\n"
     ]
    }
   ],
   "source": [
    "frames1 = frames\n",
    "frames = frames[:5]\n",
    "print(len(frames1))\n",
    "print(len(frames))"
   ]
  },
  {
   "cell_type": "code",
   "execution_count": 2,
   "metadata": {},
   "outputs": [],
   "source": [
    "%load_ext autoreload\n",
    "%autoreload 2\n",
    "\n",
    "import cv2\n",
    "import numpy as np\n",
    "from PIL import Image\n",
    "import helper\n",
    "import asyncio\n",
    "# import matplotlib.pyplot as plt\n",
    "# %matplotlib inline \n",
    "\n",
    "\n",
    "_key = '92cacf45cb404b5dbfb834528ca349c7'\n",
    "\n",
    "headers = dict()\n",
    "headers['Ocp-Apim-Subscription-Key'] = _key\n",
    "headers['Content-Type'] = 'application/octet-stream'\n",
    "\n",
    "json = None\n",
    "params = None"
   ]
  },
  {
   "cell_type": "code",
   "execution_count": 3,
   "metadata": {},
   "outputs": [
    {
     "ename": "KeyboardInterrupt",
     "evalue": "",
     "output_type": "error",
     "traceback": [
      "\u001b[1;31m---------------------------------------------------------------------------\u001b[0m",
      "\u001b[1;31mKeyboardInterrupt\u001b[0m                         Traceback (most recent call last)",
      "\u001b[1;32m<ipython-input-3-c54c574cba71>\u001b[0m in \u001b[0;36m<module>\u001b[1;34m()\u001b[0m\n\u001b[0;32m     20\u001b[0m     \u001b[1;31m# save frame to jpg\u001b[0m\u001b[1;33m\u001b[0m\u001b[1;33m\u001b[0m\u001b[0m\n\u001b[0;32m     21\u001b[0m     \u001b[0mimg\u001b[0m \u001b[1;33m=\u001b[0m \u001b[0mImage\u001b[0m\u001b[1;33m.\u001b[0m\u001b[0mfromarray\u001b[0m\u001b[1;33m(\u001b[0m\u001b[0mframe\u001b[0m\u001b[1;33m)\u001b[0m\u001b[1;33m\u001b[0m\u001b[0m\n\u001b[1;32m---> 22\u001b[1;33m     \u001b[0mimg\u001b[0m\u001b[1;33m.\u001b[0m\u001b[0msave\u001b[0m\u001b[1;33m(\u001b[0m\u001b[1;34m'demo.jpg'\u001b[0m\u001b[1;33m)\u001b[0m\u001b[1;33m\u001b[0m\u001b[0m\n\u001b[0m\u001b[0;32m     23\u001b[0m \u001b[1;33m\u001b[0m\u001b[0m\n\u001b[0;32m     24\u001b[0m     \u001b[1;31m# read back frame\u001b[0m\u001b[1;33m\u001b[0m\u001b[1;33m\u001b[0m\u001b[0m\n",
      "\u001b[1;32mC:\\Program Files (x86)\\Python35-64bit\\lib\\site-packages\\PIL\\Image.py\u001b[0m in \u001b[0;36msave\u001b[1;34m(self, fp, format, **params)\u001b[0m\n\u001b[0;32m   1824\u001b[0m \u001b[1;33m\u001b[0m\u001b[0m\n\u001b[0;32m   1825\u001b[0m         \u001b[1;32mtry\u001b[0m\u001b[1;33m:\u001b[0m\u001b[1;33m\u001b[0m\u001b[0m\n\u001b[1;32m-> 1826\u001b[1;33m             \u001b[0msave_handler\u001b[0m\u001b[1;33m(\u001b[0m\u001b[0mself\u001b[0m\u001b[1;33m,\u001b[0m \u001b[0mfp\u001b[0m\u001b[1;33m,\u001b[0m \u001b[0mfilename\u001b[0m\u001b[1;33m)\u001b[0m\u001b[1;33m\u001b[0m\u001b[0m\n\u001b[0m\u001b[0;32m   1827\u001b[0m         \u001b[1;32mfinally\u001b[0m\u001b[1;33m:\u001b[0m\u001b[1;33m\u001b[0m\u001b[0m\n\u001b[0;32m   1828\u001b[0m             \u001b[1;31m# do what we can to clean up\u001b[0m\u001b[1;33m\u001b[0m\u001b[1;33m\u001b[0m\u001b[0m\n",
      "\u001b[1;32mC:\\Program Files (x86)\\Python35-64bit\\lib\\site-packages\\PIL\\JpegImagePlugin.py\u001b[0m in \u001b[0;36m_save\u001b[1;34m(im, fp, filename)\u001b[0m\n\u001b[0;32m    744\u001b[0m     \u001b[0mbufsize\u001b[0m \u001b[1;33m=\u001b[0m \u001b[0mmax\u001b[0m\u001b[1;33m(\u001b[0m\u001b[0mImageFile\u001b[0m\u001b[1;33m.\u001b[0m\u001b[0mMAXBLOCK\u001b[0m\u001b[1;33m,\u001b[0m \u001b[0mbufsize\u001b[0m\u001b[1;33m,\u001b[0m \u001b[0mlen\u001b[0m\u001b[1;33m(\u001b[0m\u001b[0minfo\u001b[0m\u001b[1;33m.\u001b[0m\u001b[0mget\u001b[0m\u001b[1;33m(\u001b[0m\u001b[1;34m\"exif\"\u001b[0m\u001b[1;33m,\u001b[0m \u001b[1;34mb\"\"\u001b[0m\u001b[1;33m)\u001b[0m\u001b[1;33m)\u001b[0m \u001b[1;33m+\u001b[0m \u001b[1;36m5\u001b[0m\u001b[1;33m)\u001b[0m\u001b[1;33m\u001b[0m\u001b[0m\n\u001b[0;32m    745\u001b[0m \u001b[1;33m\u001b[0m\u001b[0m\n\u001b[1;32m--> 746\u001b[1;33m     \u001b[0mImageFile\u001b[0m\u001b[1;33m.\u001b[0m\u001b[0m_save\u001b[0m\u001b[1;33m(\u001b[0m\u001b[0mim\u001b[0m\u001b[1;33m,\u001b[0m \u001b[0mfp\u001b[0m\u001b[1;33m,\u001b[0m \u001b[1;33m[\u001b[0m\u001b[1;33m(\u001b[0m\u001b[1;34m\"jpeg\"\u001b[0m\u001b[1;33m,\u001b[0m \u001b[1;33m(\u001b[0m\u001b[1;36m0\u001b[0m\u001b[1;33m,\u001b[0m \u001b[1;36m0\u001b[0m\u001b[1;33m)\u001b[0m\u001b[1;33m+\u001b[0m\u001b[0mim\u001b[0m\u001b[1;33m.\u001b[0m\u001b[0msize\u001b[0m\u001b[1;33m,\u001b[0m \u001b[1;36m0\u001b[0m\u001b[1;33m,\u001b[0m \u001b[0mrawmode\u001b[0m\u001b[1;33m)\u001b[0m\u001b[1;33m]\u001b[0m\u001b[1;33m,\u001b[0m \u001b[0mbufsize\u001b[0m\u001b[1;33m)\u001b[0m\u001b[1;33m\u001b[0m\u001b[0m\n\u001b[0m\u001b[0;32m    747\u001b[0m \u001b[1;33m\u001b[0m\u001b[0m\n\u001b[0;32m    748\u001b[0m \u001b[1;33m\u001b[0m\u001b[0m\n",
      "\u001b[1;32mC:\\Program Files (x86)\\Python35-64bit\\lib\\site-packages\\PIL\\ImageFile.py\u001b[0m in \u001b[0;36m_save\u001b[1;34m(im, fp, tile, bufsize)\u001b[0m\n\u001b[0;32m    498\u001b[0m                 \u001b[0ml\u001b[0m\u001b[1;33m,\u001b[0m \u001b[0ms\u001b[0m \u001b[1;33m=\u001b[0m \u001b[0me\u001b[0m\u001b[1;33m.\u001b[0m\u001b[0mencode_to_pyfd\u001b[0m\u001b[1;33m(\u001b[0m\u001b[1;33m)\u001b[0m\u001b[1;33m\u001b[0m\u001b[0m\n\u001b[0;32m    499\u001b[0m             \u001b[1;32melse\u001b[0m\u001b[1;33m:\u001b[0m\u001b[1;33m\u001b[0m\u001b[0m\n\u001b[1;32m--> 500\u001b[1;33m                 \u001b[0ms\u001b[0m \u001b[1;33m=\u001b[0m \u001b[0me\u001b[0m\u001b[1;33m.\u001b[0m\u001b[0mencode_to_file\u001b[0m\u001b[1;33m(\u001b[0m\u001b[0mfh\u001b[0m\u001b[1;33m,\u001b[0m \u001b[0mbufsize\u001b[0m\u001b[1;33m)\u001b[0m\u001b[1;33m\u001b[0m\u001b[0m\n\u001b[0m\u001b[0;32m    501\u001b[0m             \u001b[1;32mif\u001b[0m \u001b[0ms\u001b[0m \u001b[1;33m<\u001b[0m \u001b[1;36m0\u001b[0m\u001b[1;33m:\u001b[0m\u001b[1;33m\u001b[0m\u001b[0m\n\u001b[0;32m    502\u001b[0m                 \u001b[1;32mraise\u001b[0m \u001b[0mIOError\u001b[0m\u001b[1;33m(\u001b[0m\u001b[1;34m\"encoder error %d when writing image file\"\u001b[0m \u001b[1;33m%\u001b[0m \u001b[0ms\u001b[0m\u001b[1;33m)\u001b[0m\u001b[1;33m\u001b[0m\u001b[0m\n",
      "\u001b[1;31mKeyboardInterrupt\u001b[0m: "
     ]
    }
   ],
   "source": [
    "cap = cv2.VideoCapture(0)\n",
    "\n",
    "# Define the codec and create VideoWriter object\n",
    "fourcc = cv2.VideoWriter_fourcc(*'XVID')\n",
    "out = cv2.VideoWriter('output.avi',fourcc, 20.0, (640,480))\n",
    "\n",
    "counter = 0\n",
    "frames = []\n",
    "result_dict = {}\n",
    "\n",
    "\n",
    "while(True):\n",
    "    # Capture frame-by-frame\n",
    "    ret, frame = cap.read()\n",
    "    counter += 1\n",
    "    \n",
    "    # Display frame    \n",
    "#     cv2.imshow('webcam', frame)\n",
    "    \n",
    "    # save frame to jpg\n",
    "    img = Image.fromarray(frame)\n",
    "    img.save('demo.jpg')\n",
    "    \n",
    "    # read back frame\n",
    "    with open('demo.jpg', 'rb' ) as f:\n",
    "        data = f.read()\n",
    "    frames.append(data)\n",
    "    \n",
    "#     loop = asyncio.get_event_loop()\n",
    "        \n",
    "    # send demo image to emotion api  \n",
    "#     print('process request')\n",
    "#     result = helper.processRequest(json, data, headers, params)\n",
    "#     result_dict[counter] = result\n",
    "\n",
    "\n",
    "#     futures = [helper.processRequest(json, data, headers, params) for data in frames]\n",
    "#     loop = asyncio.get_event_loop()\n",
    "#     loop.run_until_complete(asyncio.wait(futures))\n",
    "    \n",
    "    \n",
    "#     # display result\n",
    "#     if result is not None:\n",
    "#         # Load the original image from disk\n",
    "#         data8uint = np.fromstring(data, np.uint8 ) # Convert string to an unsigned int array\n",
    "#         img = cv2.cvtColor(cv2.imdecode( data8uint, cv2.IMREAD_COLOR ), cv2.COLOR_BGR2RGB )\n",
    "\n",
    "#         helper.renderResultOnImage(result, img)\n",
    "        \n",
    "#         frame2 = img\n",
    "#         out.write(frame2)        \n",
    "#         cv2.imshow('emotion', frame2)\n",
    "    \n",
    "    # Stop\n",
    "    if cv2.waitKey(1) & 0xFF == ord('q'):\n",
    "        break\n",
    "        \n",
    "#     loop.close()\n",
    "\n",
    "# When everything done, release the capture\n",
    "cap.release()\n",
    "out.release()\n",
    "cv2.destroyAllWindows()\n",
    "# loop.close()"
   ]
  },
  {
   "cell_type": "code",
   "execution_count": 4,
   "metadata": {},
   "outputs": [
    {
     "ename": "TypeError",
     "evalue": "A Future, a coroutine or an awaitable is required",
     "output_type": "error",
     "traceback": [
      "\u001b[1;31m---------------------------------------------------------------------------\u001b[0m",
      "\u001b[1;31mTypeError\u001b[0m                                 Traceback (most recent call last)",
      "\u001b[1;32m<ipython-input-4-5125ce5442d1>\u001b[0m in \u001b[0;36m<module>\u001b[1;34m()\u001b[0m\n\u001b[0;32m     54\u001b[0m \u001b[1;33m\u001b[0m\u001b[0m\n\u001b[0;32m     55\u001b[0m \u001b[0mloop\u001b[0m \u001b[1;33m=\u001b[0m \u001b[0masyncio\u001b[0m\u001b[1;33m.\u001b[0m\u001b[0mget_event_loop\u001b[0m\u001b[1;33m(\u001b[0m\u001b[1;33m)\u001b[0m\u001b[1;33m\u001b[0m\u001b[0m\n\u001b[1;32m---> 56\u001b[1;33m \u001b[0mloop\u001b[0m\u001b[1;33m.\u001b[0m\u001b[0mrun_until_complete\u001b[0m\u001b[1;33m(\u001b[0m\u001b[0mdemo\u001b[0m\u001b[1;33m)\u001b[0m\u001b[1;33m\u001b[0m\u001b[0m\n\u001b[0m",
      "\u001b[1;32mC:\\Program Files (x86)\\Python35-64bit\\lib\\asyncio\\base_events.py\u001b[0m in \u001b[0;36mrun_until_complete\u001b[1;34m(self, future)\u001b[0m\n\u001b[0;32m    444\u001b[0m \u001b[1;33m\u001b[0m\u001b[0m\n\u001b[0;32m    445\u001b[0m         \u001b[0mnew_task\u001b[0m \u001b[1;33m=\u001b[0m \u001b[1;32mnot\u001b[0m \u001b[0mfutures\u001b[0m\u001b[1;33m.\u001b[0m\u001b[0misfuture\u001b[0m\u001b[1;33m(\u001b[0m\u001b[0mfuture\u001b[0m\u001b[1;33m)\u001b[0m\u001b[1;33m\u001b[0m\u001b[0m\n\u001b[1;32m--> 446\u001b[1;33m         \u001b[0mfuture\u001b[0m \u001b[1;33m=\u001b[0m \u001b[0mtasks\u001b[0m\u001b[1;33m.\u001b[0m\u001b[0mensure_future\u001b[0m\u001b[1;33m(\u001b[0m\u001b[0mfuture\u001b[0m\u001b[1;33m,\u001b[0m \u001b[0mloop\u001b[0m\u001b[1;33m=\u001b[0m\u001b[0mself\u001b[0m\u001b[1;33m)\u001b[0m\u001b[1;33m\u001b[0m\u001b[0m\n\u001b[0m\u001b[0;32m    447\u001b[0m         \u001b[1;32mif\u001b[0m \u001b[0mnew_task\u001b[0m\u001b[1;33m:\u001b[0m\u001b[1;33m\u001b[0m\u001b[0m\n\u001b[0;32m    448\u001b[0m             \u001b[1;31m# An exception is raised if the future didn't complete, so there\u001b[0m\u001b[1;33m\u001b[0m\u001b[1;33m\u001b[0m\u001b[0m\n",
      "\u001b[1;32mC:\\Program Files (x86)\\Python35-64bit\\lib\\asyncio\\tasks.py\u001b[0m in \u001b[0;36mensure_future\u001b[1;34m(coro_or_future, loop)\u001b[0m\n\u001b[0;32m    565\u001b[0m         \u001b[1;32mreturn\u001b[0m \u001b[0mensure_future\u001b[0m\u001b[1;33m(\u001b[0m\u001b[0m_wrap_awaitable\u001b[0m\u001b[1;33m(\u001b[0m\u001b[0mcoro_or_future\u001b[0m\u001b[1;33m)\u001b[0m\u001b[1;33m,\u001b[0m \u001b[0mloop\u001b[0m\u001b[1;33m=\u001b[0m\u001b[0mloop\u001b[0m\u001b[1;33m)\u001b[0m\u001b[1;33m\u001b[0m\u001b[0m\n\u001b[0;32m    566\u001b[0m     \u001b[1;32melse\u001b[0m\u001b[1;33m:\u001b[0m\u001b[1;33m\u001b[0m\u001b[0m\n\u001b[1;32m--> 567\u001b[1;33m         \u001b[1;32mraise\u001b[0m \u001b[0mTypeError\u001b[0m\u001b[1;33m(\u001b[0m\u001b[1;34m'A Future, a coroutine or an awaitable is required'\u001b[0m\u001b[1;33m)\u001b[0m\u001b[1;33m\u001b[0m\u001b[0m\n\u001b[0m\u001b[0;32m    568\u001b[0m \u001b[1;33m\u001b[0m\u001b[0m\n\u001b[0;32m    569\u001b[0m \u001b[1;33m\u001b[0m\u001b[0m\n",
      "\u001b[1;31mTypeError\u001b[0m: A Future, a coroutine or an awaitable is required"
     ]
    }
   ],
   "source": [
    "async def demo():\n",
    "    \n",
    "    cap = cv2.VideoCapture(0)\n",
    "\n",
    "    # Define the codec and create VideoWriter object\n",
    "    fourcc = cv2.VideoWriter_fourcc(*'XVID')\n",
    "    out = cv2.VideoWriter('output.avi',fourcc, 20.0, (640,480))\n",
    "\n",
    "    frames = []\n",
    "    \n",
    "    while(True):\n",
    "    \n",
    "        # Capture frame-by-frame\n",
    "        ret, frame = await cap.read()\n",
    "\n",
    "        # Display frame    \n",
    "    #     cv2.imshow('webcam', frame)\n",
    "\n",
    "        # save frame to jpg\n",
    "        img = await Image.fromarray(frame)\n",
    "        await img.save('demo.jpg')\n",
    "\n",
    "        # read back frame\n",
    "        with open('demo.jpg', 'rb' ) as f:\n",
    "            data = await f.read()\n",
    "        await frames.append(data)\n",
    "\n",
    "        # send demo image to emotion api    \n",
    "    #     result = helper.processRequest(json, data, headers, params)\n",
    "        futures = [helper.processRequest(json, data, headers, params) for data in frames]\n",
    "        loop = asyncio.get_event_loop()\n",
    "        loop.run_until_complete(asyncio.wait(futures))\n",
    "\n",
    "    #     # display result\n",
    "    #     if result is not None:\n",
    "    #         # Load the original image from disk\n",
    "    #         data8uint = np.fromstring(data, np.uint8 ) # Convert string to an unsigned int array\n",
    "    #         img = cv2.cvtColor(cv2.imdecode( data8uint, cv2.IMREAD_COLOR ), cv2.COLOR_BGR2RGB )\n",
    "\n",
    "    #         helper.renderResultOnImage(result, img)\n",
    "\n",
    "    #         frame2 = img\n",
    "    #         out.write(frame2)        \n",
    "    # #         cv2.imshow('emotion', frame2)\n",
    "\n",
    "        # Stop\n",
    "        if cv2.waitKey(1) & 0xFF == ord('q'):\n",
    "            break\n",
    "\n",
    "    # When everything done, release the capture\n",
    "    cap.release()\n",
    "    out.release()\n",
    "    cv2.destroyAllWindows()\n",
    "    \n",
    "# loop = asyncio.get_event_loop()\n",
    "# loop.run_until_complete(demo)"
   ]
  },
  {
   "cell_type": "code",
   "execution_count": 5,
   "metadata": {},
   "outputs": [
    {
     "data": {
      "text/plain": [
       "313"
      ]
     },
     "execution_count": 5,
     "metadata": {},
     "output_type": "execute_result"
    }
   ],
   "source": [
    "len(frames)"
   ]
  },
  {
   "cell_type": "code",
   "execution_count": 5,
   "metadata": {},
   "outputs": [
    {
     "name": "stdout",
     "output_type": "stream",
     "text": [
      "Starting http://www.google.com\n",
      "Starting http://www.python.org\n",
      "Starting http://www.yandex.ru\n"
     ]
    },
    {
     "data": {
      "text/plain": [
       "({<Task finished coro=<call_url() done, defined at <ipython-input-5-62a4c673d3a6>:6> exception=AttributeError(\"module 'aiohttp' has no attribute 'get'\",)>,\n",
       "  <Task finished coro=<call_url() done, defined at <ipython-input-5-62a4c673d3a6>:6> exception=AttributeError(\"module 'aiohttp' has no attribute 'get'\",)>,\n",
       "  <Task finished coro=<call_url() done, defined at <ipython-input-5-62a4c673d3a6>:6> exception=AttributeError(\"module 'aiohttp' has no attribute 'get'\",)>},\n",
       " set())"
      ]
     },
     "execution_count": 5,
     "metadata": {},
     "output_type": "execute_result"
    }
   ],
   "source": [
    "import asyncio\n",
    "import aiohttp\n",
    "\n",
    "urls = ['http://www.google.com', 'http://www.yandex.ru', 'http://www.python.org']\n",
    "\n",
    "async def call_url(url):\n",
    "    print('Starting {}'.format(url))\n",
    "    response = await aiohttp.get(url)\n",
    "    print(type(response))\n",
    "    data = await response.text()\n",
    "    print('{}: {} bytes: {}'.format(url, len(data), data))\n",
    "    return data\n",
    "\n",
    "futures = [call_url(url) for url in urls]\n",
    "\n",
    "loop = asyncio.get_event_loop()\n",
    "loop.run_until_complete(asyncio.wait(futures))"
   ]
  },
  {
   "cell_type": "code",
   "execution_count": 6,
   "metadata": {},
   "outputs": [
    {
     "data": {
      "text/plain": [
       "3"
      ]
     },
     "execution_count": 6,
     "metadata": {},
     "output_type": "execute_result"
    }
   ],
   "source": [
    "len(futures)"
   ]
  },
  {
   "cell_type": "code",
   "execution_count": 7,
   "metadata": {},
   "outputs": [
    {
     "data": {
      "text/plain": [
       "<coroutine object call_url at 0x000000000788EE08>"
      ]
     },
     "execution_count": 7,
     "metadata": {},
     "output_type": "execute_result"
    }
   ],
   "source": [
    "futures[0]"
   ]
  },
  {
   "cell_type": "code",
   "execution_count": 1,
   "metadata": {},
   "outputs": [
    {
     "ename": "KeyboardInterrupt",
     "evalue": "",
     "output_type": "error",
     "traceback": [
      "\u001b[1;31m---------------------------------------------------------------------------\u001b[0m",
      "\u001b[1;31mKeyboardInterrupt\u001b[0m                         Traceback (most recent call last)",
      "\u001b[1;32m<ipython-input-1-886e9934df76>\u001b[0m in \u001b[0;36m<module>\u001b[1;34m()\u001b[0m\n\u001b[0;32m      9\u001b[0m \u001b[1;33m\u001b[0m\u001b[0m\n\u001b[0;32m     10\u001b[0m \u001b[1;32mwhile\u001b[0m\u001b[1;33m(\u001b[0m\u001b[0mcap\u001b[0m\u001b[1;33m.\u001b[0m\u001b[0misOpened\u001b[0m\u001b[1;33m(\u001b[0m\u001b[1;33m)\u001b[0m\u001b[1;33m)\u001b[0m\u001b[1;33m:\u001b[0m\u001b[1;33m\u001b[0m\u001b[0m\n\u001b[1;32m---> 11\u001b[1;33m     \u001b[0mret\u001b[0m\u001b[1;33m,\u001b[0m \u001b[0mframe\u001b[0m \u001b[1;33m=\u001b[0m \u001b[0mcap\u001b[0m\u001b[1;33m.\u001b[0m\u001b[0mread\u001b[0m\u001b[1;33m(\u001b[0m\u001b[1;33m)\u001b[0m\u001b[1;33m\u001b[0m\u001b[0m\n\u001b[0m\u001b[0;32m     12\u001b[0m     \u001b[1;32mif\u001b[0m \u001b[0mret\u001b[0m\u001b[1;33m==\u001b[0m\u001b[1;32mTrue\u001b[0m\u001b[1;33m:\u001b[0m\u001b[1;33m\u001b[0m\u001b[0m\n\u001b[0;32m     13\u001b[0m         \u001b[0mframe\u001b[0m \u001b[1;33m=\u001b[0m \u001b[0mcv2\u001b[0m\u001b[1;33m.\u001b[0m\u001b[0mflip\u001b[0m\u001b[1;33m(\u001b[0m\u001b[0mframe\u001b[0m\u001b[1;33m,\u001b[0m\u001b[1;36m0\u001b[0m\u001b[1;33m)\u001b[0m\u001b[1;33m\u001b[0m\u001b[0m\n",
      "\u001b[1;31mKeyboardInterrupt\u001b[0m: "
     ]
    }
   ],
   "source": [
    "import numpy as np\n",
    "import cv2\n",
    "\n",
    "cap = cv2.VideoCapture(0)\n",
    "\n",
    "# Define the codec and create VideoWriter object\n",
    "fourcc = cv2.VideoWriter_fourcc(*'XVID')\n",
    "out = cv2.VideoWriter('output.avi',fourcc, 20.0, (640,480))\n",
    "\n",
    "while(cap.isOpened()):\n",
    "    ret, frame = cap.read()\n",
    "    if ret==True:\n",
    "        frame = cv2.flip(frame,0)\n",
    "\n",
    "        # write the flipped frame\n",
    "        out.write(frame)\n",
    "\n",
    "        cv2.imshow('frame',frame)\n",
    "        if cv2.waitKey(1) & 0xFF == ord('q'):\n",
    "            break\n",
    "    else:\n",
    "        break\n",
    "\n",
    "# Release everything if job is finished\n",
    "cap.release()\n",
    "out.release()\n",
    "cv2.destroyAllWindows()"
   ]
  },
  {
   "cell_type": "code",
   "execution_count": 1,
   "metadata": {
    "collapsed": true
   },
   "outputs": [],
   "source": [
    "def gen_fn():\n",
    "    result = yield 1\n",
    "    print('result of yield: {}'.format(result))\n",
    "    result2 = yield 2\n",
    "    print('result of 2nd yield: {}'.format(result2))\n",
    "    return 'done'"
   ]
  },
  {
   "cell_type": "code",
   "execution_count": 7,
   "metadata": {},
   "outputs": [
    {
     "name": "stdout",
     "output_type": "stream",
     "text": [
      "1\n",
      "result of yield: None\n",
      "2\n"
     ]
    }
   ],
   "source": [
    "g = gen_fn()\n",
    "x = g.send(None)\n",
    "print(x)\n",
    "y = g.send(None)\n",
    "print(y)"
   ]
  }
 ],
 "metadata": {
  "kernelspec": {
   "display_name": "Python 3",
   "language": "python",
   "name": "python3"
  },
  "language_info": {
   "codemirror_mode": {
    "name": "ipython",
    "version": 3
   },
   "file_extension": ".py",
   "mimetype": "text/x-python",
   "name": "python",
   "nbconvert_exporter": "python",
   "pygments_lexer": "ipython3",
   "version": "3.5.3"
  }
 },
 "nbformat": 4,
 "nbformat_minor": 2
}
